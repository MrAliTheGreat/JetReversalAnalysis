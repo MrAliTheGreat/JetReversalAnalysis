{
 "cells": [
  {
   "cell_type": "code",
   "execution_count": 1,
   "id": "917c5cbc",
   "metadata": {},
   "outputs": [],
   "source": [
    "import json\n",
    "\n",
    "with open(\"./params.json\", mode = \"r\", encoding = \"utf-8\") as f:\n",
    "    data = json.load(f)\n",
    "    seed_val = data[\"seed_val\"]\n",
    "    model_path = data[\"model_path\"]\n",
    "    dataset_path_train = data[\"dataset_path\"][\"train\"]\n",
    "    dataset_path_val = data[\"dataset_path\"][\"validation\"]\n",
    "    dataset_path_test = data[\"dataset_path\"][\"test\"]\n",
    "    num_single_sample_timesteps = data[\"num_single_sample_timesteps\"]\n",
    "    window_stride = data[\"window_stride\"]\n",
    "    input_window_length = data[\"input_window_length\"]\n",
    "    label_window_length = data[\"label_window_length\"]\n",
    "    input_features = data[\"input_features\"]\n",
    "    label_features = data[\"label_features\"]\n",
    "    positional_encoding_max_len = data[\"positional_encoding_max_len\"]\n",
    "    embedding_dim = data[\"embedding_dim\"]\n",
    "    num_attention_head = data[\"num_attention_head\"]\n",
    "    num_encoder_layers = data[\"num_encoder_layers\"]\n",
    "    num_decoder_layers = data[\"num_decoder_layers\"]\n",
    "    position_wise_nn_dim = data[\"position_wise_nn_dim\"]\n",
    "    dropout = data[\"dropout\"]\n",
    "    batch_size = data[\"batch_size\"]\n",
    "    epochs = data[\"epochs\"]\n",
    "    learning_rate = data[\"learning_rate\"]"
   ]
  },
  {
   "cell_type": "code",
   "execution_count": 2,
   "id": "1b44d554",
   "metadata": {},
   "outputs": [],
   "source": [
    "import random\n",
    "import numpy as np\n",
    "import torch\n",
    "\n",
    "device = torch.device(\"cuda\" if torch.cuda.is_available() else \"cpu\")\n",
    "\n",
    "torch.manual_seed(seed_val)\n",
    "random.seed(seed_val)\n",
    "np.random.seed(seed_val)"
   ]
  },
  {
   "cell_type": "code",
   "execution_count": 3,
   "id": "2c01badd",
   "metadata": {},
   "outputs": [
    {
     "name": "stderr",
     "output_type": "stream",
     "text": [
      "/users/labnet5/gr5/abahari/Documents/Thesis/src/thesis/lib/python3.10/site-packages/tqdm/auto.py:21: TqdmWarning: IProgress not found. Please update jupyter and ipywidgets. See https://ipywidgets.readthedocs.io/en/stable/user_install.html\n",
      "  from .autonotebook import tqdm as notebook_tqdm\n"
     ]
    }
   ],
   "source": [
    "from torch.utils.data import DataLoader\n",
    "from torchmetrics.regression import R2Score\n",
    "\n",
    "from utils.pipeline.Data import get_mean_std, WindowedIterableDataset\n",
    "from utils.pipeline.Model import TimeSeriesHuggingFaceTransformer\n",
    "from utils.pipeline.Run import train, validate\n",
    "from utils.pipeline.Monitor import Overfit"
   ]
  },
  {
   "cell_type": "code",
   "execution_count": 4,
   "id": "33375a1f",
   "metadata": {},
   "outputs": [],
   "source": [
    "##### TRAIN #####\n",
    "stats = get_mean_std(\n",
    "    dataset_path = dataset_path_train,\n",
    "    cols = input_features\n",
    ")\n",
    "\n",
    "df_train = WindowedIterableDataset(\n",
    "    dataset_path = dataset_path_train,\n",
    "    stats = stats,\n",
    "    input_features = input_features,\n",
    "    label_features = label_features,\n",
    "    num_single_sample_timesteps = num_single_sample_timesteps,\n",
    "    stride = window_stride,\n",
    "    input_window_length = input_window_length,\n",
    "    label_window_length = label_window_length\n",
    ")\n",
    "\n",
    "data_loader_train = DataLoader(\n",
    "    df_train,\n",
    "    batch_size = batch_size,\n",
    "    # num_workers = 0,\n",
    "    # prefetch_factor = 12,\n",
    "    # persistent_workers = False,\n",
    "    pin_memory = True\n",
    ")\n",
    "\n",
    "\n",
    "\n",
    "##### VALIDATION #####\n",
    "df_val = WindowedIterableDataset(\n",
    "    dataset_path = dataset_path_val,\n",
    "    stats = stats,\n",
    "    input_features = input_features,\n",
    "    label_features = label_features,\n",
    "    num_single_sample_timesteps = num_single_sample_timesteps,\n",
    "    stride = window_stride,\n",
    "    input_window_length = input_window_length,\n",
    "    label_window_length = label_window_length\n",
    ")\n",
    "\n",
    "data_loader_val = DataLoader(\n",
    "    df_val,\n",
    "    batch_size = batch_size,\n",
    "    # num_workers = 0,\n",
    "    # prefetch_factor = 12,\n",
    "    # persistent_workers = False,\n",
    "    pin_memory = True\n",
    ")\n",
    "\n",
    "\n",
    "\n",
    "##### TEST #####\n",
    "df_test = WindowedIterableDataset(\n",
    "    dataset_path = dataset_path_test,\n",
    "    stats = stats,\n",
    "    input_features = input_features,\n",
    "    label_features = label_features,\n",
    "    num_single_sample_timesteps = num_single_sample_timesteps,\n",
    "    stride = window_stride,\n",
    "    input_window_length = input_window_length,\n",
    "    label_window_length = label_window_length\n",
    ")\n",
    "\n",
    "data_loader_test = DataLoader(\n",
    "    df_test,\n",
    "    batch_size = batch_size,\n",
    "    # num_workers = 0,\n",
    "    # prefetch_factor = 12,\n",
    "    # persistent_workers = False,\n",
    "    pin_memory = True\n",
    ")"
   ]
  },
  {
   "cell_type": "code",
   "execution_count": 5,
   "id": "4cfc6517",
   "metadata": {},
   "outputs": [
    {
     "name": "stdout",
     "output_type": "stream",
     "text": [
      "Number of trainable parameters in the model: 133509\n",
      "\n"
     ]
    },
    {
     "name": "stderr",
     "output_type": "stream",
     "text": [
      "Epoch 1/10: 1646it [00:35, 45.78it/s, train_loss=0.036738]\n"
     ]
    },
    {
     "name": "stdout",
     "output_type": "stream",
     "text": [
      "Epoch [1/10], Train Loss: 0.115552, Train R2: 0.894006\n"
     ]
    },
    {
     "name": "stderr",
     "output_type": "stream",
     "text": [
      "Epoch 1/10: 469it [00:40, 11.55it/s, val_loss=0.022439]\n"
     ]
    },
    {
     "name": "stdout",
     "output_type": "stream",
     "text": [
      "Epoch [1/10], Val Loss: 0.043268, Val R2: 0.960876\n",
      "\n"
     ]
    },
    {
     "name": "stderr",
     "output_type": "stream",
     "text": [
      "Epoch 2/10: 1646it [00:36, 45.41it/s, train_loss=0.023735]\n"
     ]
    },
    {
     "name": "stdout",
     "output_type": "stream",
     "text": [
      "Epoch [2/10], Train Loss: 0.034011, Train R2: 0.968865\n"
     ]
    },
    {
     "name": "stderr",
     "output_type": "stream",
     "text": [
      "Epoch 2/10: 469it [00:40, 11.53it/s, val_loss=0.024209]\n"
     ]
    },
    {
     "name": "stdout",
     "output_type": "stream",
     "text": [
      "Epoch [2/10], Val Loss: 0.025373, Val R2: 0.976904\n",
      "\n"
     ]
    },
    {
     "name": "stderr",
     "output_type": "stream",
     "text": [
      "Epoch 3/10: 1646it [00:36, 44.96it/s, train_loss=0.021123]\n"
     ]
    },
    {
     "name": "stdout",
     "output_type": "stream",
     "text": [
      "Epoch [3/10], Train Loss: 0.024958, Train R2: 0.977105\n"
     ]
    },
    {
     "name": "stderr",
     "output_type": "stream",
     "text": [
      "Epoch 3/10: 469it [00:40, 11.54it/s, val_loss=0.010799]\n"
     ]
    },
    {
     "name": "stdout",
     "output_type": "stream",
     "text": [
      "Epoch [3/10], Val Loss: 0.018181, Val R2: 0.983447\n",
      "\n"
     ]
    },
    {
     "name": "stderr",
     "output_type": "stream",
     "text": [
      "Epoch 4/10: 1646it [00:36, 45.48it/s, train_loss=0.021216]\n"
     ]
    },
    {
     "name": "stdout",
     "output_type": "stream",
     "text": [
      "Epoch [4/10], Train Loss: 0.021416, Train R2: 0.980328\n"
     ]
    },
    {
     "name": "stderr",
     "output_type": "stream",
     "text": [
      "Epoch 4/10: 469it [00:40, 11.47it/s, val_loss=0.005490]\n"
     ]
    },
    {
     "name": "stdout",
     "output_type": "stream",
     "text": [
      "Epoch [4/10], Val Loss: 0.015159, Val R2: 0.986189\n",
      "\n"
     ]
    },
    {
     "name": "stderr",
     "output_type": "stream",
     "text": [
      "Epoch 5/10: 1646it [00:36, 45.59it/s, train_loss=0.019458]\n"
     ]
    },
    {
     "name": "stdout",
     "output_type": "stream",
     "text": [
      "Epoch [5/10], Train Loss: 0.019493, Train R2: 0.982080\n"
     ]
    },
    {
     "name": "stderr",
     "output_type": "stream",
     "text": [
      "Epoch 5/10: 469it [00:40, 11.52it/s, val_loss=0.006919]\n"
     ]
    },
    {
     "name": "stdout",
     "output_type": "stream",
     "text": [
      "Epoch [5/10], Val Loss: 0.011524, Val R2: 0.989564\n",
      "\n"
     ]
    },
    {
     "name": "stderr",
     "output_type": "stream",
     "text": [
      "Epoch 6/10: 1646it [00:35, 45.73it/s, train_loss=0.016474]\n"
     ]
    },
    {
     "name": "stdout",
     "output_type": "stream",
     "text": [
      "Epoch [6/10], Train Loss: 0.018232, Train R2: 0.983230\n"
     ]
    },
    {
     "name": "stderr",
     "output_type": "stream",
     "text": [
      "Epoch 6/10: 469it [00:40, 11.58it/s, val_loss=0.005908]\n"
     ]
    },
    {
     "name": "stdout",
     "output_type": "stream",
     "text": [
      "Epoch [6/10], Val Loss: 0.010663, Val R2: 0.990323\n",
      "\n"
     ]
    },
    {
     "name": "stderr",
     "output_type": "stream",
     "text": [
      "Epoch 7/10: 1646it [00:35, 45.83it/s, train_loss=0.014631]\n"
     ]
    },
    {
     "name": "stdout",
     "output_type": "stream",
     "text": [
      "Epoch [7/10], Train Loss: 0.017306, Train R2: 0.984076\n"
     ]
    },
    {
     "name": "stderr",
     "output_type": "stream",
     "text": [
      "Epoch 7/10: 469it [00:40, 11.53it/s, val_loss=0.008031]\n"
     ]
    },
    {
     "name": "stdout",
     "output_type": "stream",
     "text": [
      "Epoch [7/10], Val Loss: 0.008732, Val R2: 0.992098\n",
      "\n"
     ]
    },
    {
     "name": "stderr",
     "output_type": "stream",
     "text": [
      "Epoch 8/10: 1646it [00:36, 45.05it/s, train_loss=0.013841]\n"
     ]
    },
    {
     "name": "stdout",
     "output_type": "stream",
     "text": [
      "Epoch [8/10], Train Loss: 0.016547, Train R2: 0.984770\n"
     ]
    },
    {
     "name": "stderr",
     "output_type": "stream",
     "text": [
      "Epoch 8/10: 469it [00:40, 11.46it/s, val_loss=0.008602]\n"
     ]
    },
    {
     "name": "stdout",
     "output_type": "stream",
     "text": [
      "Epoch [8/10], Val Loss: 0.009963, Val R2: 0.990986\n",
      "\n"
     ]
    },
    {
     "name": "stderr",
     "output_type": "stream",
     "text": [
      "Epoch 9/10: 1646it [00:36, 45.20it/s, train_loss=0.016280]\n"
     ]
    },
    {
     "name": "stdout",
     "output_type": "stream",
     "text": [
      "Epoch [9/10], Train Loss: 0.015970, Train R2: 0.985297\n"
     ]
    },
    {
     "name": "stderr",
     "output_type": "stream",
     "text": [
      "Epoch 9/10: 469it [00:40, 11.54it/s, val_loss=0.010051]\n"
     ]
    },
    {
     "name": "stdout",
     "output_type": "stream",
     "text": [
      "Epoch [9/10], Val Loss: 0.010399, Val R2: 0.990572\n",
      "\n"
     ]
    },
    {
     "name": "stderr",
     "output_type": "stream",
     "text": [
      "Epoch 10/10: 1646it [00:35, 45.96it/s, train_loss=0.013198]\n"
     ]
    },
    {
     "name": "stdout",
     "output_type": "stream",
     "text": [
      "Epoch [10/10], Train Loss: 0.015562, Train R2: 0.985669\n"
     ]
    },
    {
     "name": "stderr",
     "output_type": "stream",
     "text": [
      "Epoch 10/10: 469it [00:40, 11.57it/s, val_loss=0.010177]"
     ]
    },
    {
     "name": "stdout",
     "output_type": "stream",
     "text": [
      "Epoch [10/10], Val Loss: 0.010174, Val R2: 0.990797\n",
      "\n"
     ]
    },
    {
     "name": "stderr",
     "output_type": "stream",
     "text": [
      "\n"
     ]
    }
   ],
   "source": [
    "model = TimeSeriesHuggingFaceTransformer(\n",
    "    input_dim = len(input_features),\n",
    "    output_dim = len(label_features),\n",
    "    d_model = embedding_dim,\n",
    "    num_head = num_attention_head,\n",
    "    num_encoder_layers = num_encoder_layers,\n",
    "    num_decoder_layers = num_encoder_layers,\n",
    "    position_wise_ffn_dim = position_wise_nn_dim,\n",
    "    dropout = dropout\n",
    ").to(device)\n",
    "\n",
    "overfit_monitor = Overfit()\n",
    "\n",
    "print(f\"Number of trainable parameters in the model: {sum(p.numel() for p in model.parameters() if p.requires_grad)}\\n\")\n",
    "\n",
    "criterion = torch.nn.MSELoss()\n",
    "optimizer = torch.optim.Adam(\n",
    "    model.parameters(),\n",
    "    lr = learning_rate\n",
    ")\n",
    "\n",
    "train_r2 = R2Score(multioutput = \"uniform_average\").to(device)\n",
    "val_r2 = R2Score(multioutput = \"uniform_average\").to(device)\n",
    "\n",
    "overfit_count = 0\n",
    "\n",
    "for epoch in range(epochs):\n",
    "    train_loss, _ = train(\n",
    "        model = model,\n",
    "        optimizer = optimizer,\n",
    "        criterion = criterion,\n",
    "        r2 = train_r2,\n",
    "        data_loader = data_loader_train,\n",
    "        device = device,\n",
    "        epoch = epoch,\n",
    "        total_epochs = epochs\n",
    "    )\n",
    "\n",
    "    val_loss, _ = validate(\n",
    "        model = model,\n",
    "        criterion = criterion,\n",
    "        r2 = val_r2,\n",
    "        data_loader = data_loader_val,\n",
    "        device = device,\n",
    "        epoch = epoch,\n",
    "        total_epochs = epochs\n",
    "    )\n",
    "\n",
    "    if(overfit_monitor.check(epoch = epoch, train_loss = train_loss, val_loss = val_loss)):\n",
    "        break"
   ]
  },
  {
   "cell_type": "code",
   "execution_count": 6,
   "id": "3d1998dc",
   "metadata": {},
   "outputs": [],
   "source": [
    "torch.save(model, model_path)"
   ]
  },
  {
   "cell_type": "code",
   "execution_count": null,
   "id": "cda52e7a",
   "metadata": {},
   "outputs": [],
   "source": []
  },
  {
   "cell_type": "code",
   "execution_count": null,
   "id": "2803093a",
   "metadata": {},
   "outputs": [],
   "source": []
  }
 ],
 "metadata": {
  "kernelspec": {
   "display_name": "thesis",
   "language": "python",
   "name": "python3"
  },
  "language_info": {
   "codemirror_mode": {
    "name": "ipython",
    "version": 3
   },
   "file_extension": ".py",
   "mimetype": "text/x-python",
   "name": "python",
   "nbconvert_exporter": "python",
   "pygments_lexer": "ipython3",
   "version": "3.10.12"
  }
 },
 "nbformat": 4,
 "nbformat_minor": 5
}

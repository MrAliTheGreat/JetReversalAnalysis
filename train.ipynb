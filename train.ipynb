{
 "cells": [
  {
   "cell_type": "code",
   "execution_count": 1,
   "id": "917c5cbc",
   "metadata": {},
   "outputs": [],
   "source": [
    "import json\n",
    "\n",
    "with open(\"./params.json\", mode = \"r\", encoding = \"utf-8\") as f:\n",
    "    data = json.load(f)\n",
    "    seed_val = data[\"seed_val\"]\n",
    "    model_path = data[\"model_path\"]\n",
    "    dataset_path_train = data[\"dataset_path\"][\"train\"]\n",
    "    dataset_path_val = data[\"dataset_path\"][\"validation\"]\n",
    "    dataset_path_test = data[\"dataset_path\"][\"test\"]\n",
    "    num_single_sample_timesteps = data[\"num_single_sample_timesteps\"]\n",
    "    window_stride = data[\"window_stride\"]\n",
    "    input_window_length = data[\"input_window_length\"]\n",
    "    label_window_length = data[\"label_window_length\"]\n",
    "    input_features = data[\"input_features\"]\n",
    "    label_features = data[\"label_features\"]\n",
    "    relative_attention_num_buckets = data[\"relative_attention_num_buckets\"]\n",
    "    embedding_dim = data[\"embedding_dim\"]\n",
    "    num_attention_head = data[\"num_attention_head\"]\n",
    "    num_encoder_layers = data[\"num_encoder_layers\"]\n",
    "    num_decoder_layers = data[\"num_decoder_layers\"]\n",
    "    position_wise_nn_dim = data[\"position_wise_nn_dim\"]\n",
    "    dropout = data[\"dropout\"]\n",
    "    batch_size = data[\"batch_size\"]\n",
    "    epochs = data[\"epochs\"]\n",
    "    learning_rate = data[\"learning_rate\"]"
   ]
  },
  {
   "cell_type": "code",
   "execution_count": 2,
   "id": "1b44d554",
   "metadata": {},
   "outputs": [],
   "source": [
    "import random\n",
    "import numpy as np\n",
    "import torch\n",
    "\n",
    "device = torch.device(\"cuda\" if torch.cuda.is_available() else \"cpu\")\n",
    "\n",
    "torch.manual_seed(seed_val)\n",
    "random.seed(seed_val)\n",
    "np.random.seed(seed_val)"
   ]
  },
  {
   "cell_type": "code",
   "execution_count": 3,
   "id": "2c01badd",
   "metadata": {},
   "outputs": [
    {
     "name": "stderr",
     "output_type": "stream",
     "text": [
      "/users/labnet5/gr5/abahari/Documents/Thesis/src/thesis/lib/python3.10/site-packages/tqdm/auto.py:21: TqdmWarning: IProgress not found. Please update jupyter and ipywidgets. See https://ipywidgets.readthedocs.io/en/stable/user_install.html\n",
      "  from .autonotebook import tqdm as notebook_tqdm\n"
     ]
    }
   ],
   "source": [
    "from torch.utils.data import DataLoader\n",
    "from torchmetrics.regression import R2Score\n",
    "from datetime import datetime\n",
    "\n",
    "from utils.pipeline.Data import get_mean_std_respected_temporal, WindowedIterableDataset\n",
    "from utils.pipeline.Model import TimeSeriesHuggingFaceTransformer\n",
    "from utils.pipeline.Run import train, validate\n",
    "from utils.pipeline.Monitor import Overfit"
   ]
  },
  {
   "cell_type": "code",
   "execution_count": 4,
   "id": "33375a1f",
   "metadata": {},
   "outputs": [],
   "source": [
    "##### TRAIN #####\n",
    "# stats = get_mean_std(\n",
    "#     dataset_path = dataset_path_train,\n",
    "#     cols = input_features\n",
    "# )\n",
    "\n",
    "input_stats = get_mean_std_respected_temporal(\n",
    "    dataset_path = dataset_path_train,\n",
    "    cols = input_features,\n",
    "    num_single_sample_timesteps = num_single_sample_timesteps,\n",
    "    input_window_len = input_window_length,\n",
    "    label_window_len = label_window_length,\n",
    "    window_stride = window_stride\n",
    ")\n",
    "if(set(input_features) == set(label_features)):\n",
    "    output_stats = input_stats\n",
    "else:\n",
    "    output_stats = get_mean_std_respected_temporal(\n",
    "        dataset_path = dataset_path_train,\n",
    "        cols = label_features,\n",
    "        num_single_sample_timesteps = num_single_sample_timesteps,\n",
    "        input_window_len = input_window_length,\n",
    "        label_window_len = label_window_length,\n",
    "        window_stride = window_stride\n",
    "    )\n",
    "\n",
    "df_train = WindowedIterableDataset(\n",
    "    dataset_path = dataset_path_train,\n",
    "    input_stats = input_stats,\n",
    "    label_stats = output_stats,\n",
    "    input_features = input_features,\n",
    "    label_features = label_features,\n",
    "    num_single_sample_timesteps = num_single_sample_timesteps,\n",
    "    stride = window_stride,\n",
    "    input_window_length = input_window_length,\n",
    "    label_window_length = label_window_length\n",
    ")\n",
    "\n",
    "data_loader_train = DataLoader(\n",
    "    df_train,\n",
    "    batch_size = batch_size,\n",
    "    # num_workers = 0,\n",
    "    # prefetch_factor = 12,\n",
    "    # persistent_workers = False,\n",
    "    pin_memory = True\n",
    ")\n",
    "\n",
    "\n",
    "\n",
    "##### VALIDATION #####\n",
    "df_val = WindowedIterableDataset(\n",
    "    dataset_path = dataset_path_val,\n",
    "    input_stats = input_stats,\n",
    "    label_stats = output_stats,\n",
    "    input_features = input_features,\n",
    "    label_features = label_features,\n",
    "    num_single_sample_timesteps = num_single_sample_timesteps,\n",
    "    stride = window_stride,\n",
    "    input_window_length = input_window_length,\n",
    "    label_window_length = label_window_length\n",
    ")\n",
    "\n",
    "data_loader_val = DataLoader(\n",
    "    df_val,\n",
    "    batch_size = batch_size,\n",
    "    # num_workers = 0,\n",
    "    # prefetch_factor = 12,\n",
    "    # persistent_workers = False,\n",
    "    pin_memory = True\n",
    ")\n",
    "\n",
    "\n",
    "\n",
    "##### TEST #####\n",
    "df_test = WindowedIterableDataset(\n",
    "    dataset_path = dataset_path_test,\n",
    "    input_stats = input_stats,\n",
    "    label_stats = output_stats,\n",
    "    input_features = input_features,\n",
    "    label_features = label_features,\n",
    "    num_single_sample_timesteps = num_single_sample_timesteps,\n",
    "    stride = window_stride,\n",
    "    input_window_length = input_window_length,\n",
    "    label_window_length = label_window_length\n",
    ")\n",
    "\n",
    "data_loader_test = DataLoader(\n",
    "    df_test,\n",
    "    batch_size = batch_size,\n",
    "    # num_workers = 0,\n",
    "    # prefetch_factor = 12,\n",
    "    # persistent_workers = False,\n",
    "    pin_memory = True\n",
    ")"
   ]
  },
  {
   "cell_type": "code",
   "execution_count": 5,
   "id": "4cfc6517",
   "metadata": {},
   "outputs": [
    {
     "name": "stdout",
     "output_type": "stream",
     "text": [
      "Number of trainable parameters in the model: 1170949\n",
      "\n"
     ]
    },
    {
     "name": "stderr",
     "output_type": "stream",
     "text": [
      "Epoch 1/20: 717it [00:58, 12.35it/s, train_loss=0.030148]\n"
     ]
    },
    {
     "name": "stdout",
     "output_type": "stream",
     "text": [
      "Epoch [1/20], Train Loss: 0.099944, Train R2: 0.920496\n",
      "\n",
      "Worst 5 Time-Steps Train R2:\n",
      "    Time-step 1: R2 = 0.761971\n",
      "    Time-step 2: R2 = 0.895655\n",
      "    Time-step 3: R2 = 0.907683\n",
      "    Time-step 4: R2 = 0.914820\n",
      "    Time-step 50: R2 = 0.918148\n",
      "Best 5 Time-Steps Train R2:\n",
      "    Time-step 15: R2 = 0.928165\n",
      "    Time-step 16: R2 = 0.928126\n",
      "    Time-step 20: R2 = 0.928121\n",
      "    Time-step 14: R2 = 0.928081\n",
      "    Time-step 19: R2 = 0.927928\n",
      "\n"
     ]
    },
    {
     "name": "stderr",
     "output_type": "stream",
     "text": [
      "Epoch 1/20: 207it [00:32,  6.42it/s, val_loss=0.416815]\n"
     ]
    },
    {
     "name": "stdout",
     "output_type": "stream",
     "text": [
      "Epoch [1/20], Val Loss: 0.838959, Val R2: 0.387097\n",
      "\n",
      "Worst 5 Time-Steps Val R2:\n",
      "    Time-step 50: R2 = -0.298190\n",
      "    Time-step 49: R2 = -0.276344\n",
      "    Time-step 48: R2 = -0.249180\n",
      "    Time-step 47: R2 = -0.220187\n",
      "    Time-step 46: R2 = -0.192943\n",
      "Best 5 Time-Steps Val R2:\n",
      "    Time-step 1: R2 = 0.970712\n",
      "    Time-step 2: R2 = 0.956640\n",
      "    Time-step 3: R2 = 0.940655\n",
      "    Time-step 4: R2 = 0.924485\n",
      "    Time-step 5: R2 = 0.907421\n",
      "\n",
      "-----------------------------------------------------------------\n",
      "\n"
     ]
    },
    {
     "name": "stderr",
     "output_type": "stream",
     "text": [
      "Epoch 2/20: 717it [00:56, 12.79it/s, train_loss=0.023344]\n"
     ]
    },
    {
     "name": "stdout",
     "output_type": "stream",
     "text": [
      "Epoch [2/20], Train Loss: 0.035809, Train R2: 0.971498\n",
      "\n",
      "Worst 5 Time-Steps Train R2:\n",
      "    Time-step 1: R2 = 0.914348\n",
      "    Time-step 2: R2 = 0.959274\n",
      "    Time-step 3: R2 = 0.966307\n",
      "    Time-step 4: R2 = 0.969780\n",
      "    Time-step 5: R2 = 0.971150\n",
      "Best 5 Time-Steps Train R2:\n",
      "    Time-step 27: R2 = 0.973850\n",
      "    Time-step 31: R2 = 0.973803\n",
      "    Time-step 25: R2 = 0.973798\n",
      "    Time-step 23: R2 = 0.973797\n",
      "    Time-step 19: R2 = 0.973777\n",
      "\n"
     ]
    },
    {
     "name": "stderr",
     "output_type": "stream",
     "text": [
      "Epoch 2/20: 207it [00:32,  6.42it/s, val_loss=0.443338]\n"
     ]
    },
    {
     "name": "stdout",
     "output_type": "stream",
     "text": [
      "Epoch [2/20], Val Loss: 0.639155, Val R2: 0.507343\n",
      "\n",
      "Worst 5 Time-Steps Val R2:\n",
      "    Time-step 50: R2 = 0.010891\n",
      "    Time-step 49: R2 = 0.024510\n",
      "    Time-step 48: R2 = 0.037223\n",
      "    Time-step 47: R2 = 0.050477\n",
      "    Time-step 46: R2 = 0.064816\n",
      "Best 5 Time-Steps Val R2:\n",
      "    Time-step 1: R2 = 0.978500\n",
      "    Time-step 2: R2 = 0.968520\n",
      "    Time-step 3: R2 = 0.957443\n",
      "    Time-step 4: R2 = 0.945770\n",
      "    Time-step 5: R2 = 0.933149\n",
      "\n",
      "-----------------------------------------------------------------\n",
      "\n"
     ]
    },
    {
     "name": "stderr",
     "output_type": "stream",
     "text": [
      "Epoch 3/20: 717it [00:58, 12.27it/s, train_loss=0.021052]\n"
     ]
    },
    {
     "name": "stdout",
     "output_type": "stream",
     "text": [
      "Epoch [3/20], Train Loss: 0.030653, Train R2: 0.975554\n",
      "\n",
      "Worst 5 Time-Steps Train R2:\n",
      "    Time-step 1: R2 = 0.932434\n",
      "    Time-step 2: R2 = 0.965859\n",
      "    Time-step 3: R2 = 0.971669\n",
      "    Time-step 4: R2 = 0.974259\n",
      "    Time-step 5: R2 = 0.975220\n",
      "Best 5 Time-Steps Train R2:\n",
      "    Time-step 24: R2 = 0.977298\n",
      "    Time-step 26: R2 = 0.977287\n",
      "    Time-step 23: R2 = 0.977245\n",
      "    Time-step 31: R2 = 0.977228\n",
      "    Time-step 22: R2 = 0.977220\n",
      "\n"
     ]
    },
    {
     "name": "stderr",
     "output_type": "stream",
     "text": [
      "Epoch 3/20: 207it [00:32,  6.42it/s, val_loss=0.324779]\n"
     ]
    },
    {
     "name": "stdout",
     "output_type": "stream",
     "text": [
      "Epoch [3/20], Val Loss: 0.580691, Val R2: 0.555562\n",
      "\n",
      "Worst 5 Time-Steps Val R2:\n",
      "    Time-step 50: R2 = 0.063363\n",
      "    Time-step 49: R2 = 0.080008\n",
      "    Time-step 48: R2 = 0.097972\n",
      "    Time-step 47: R2 = 0.117437\n",
      "    Time-step 46: R2 = 0.137260\n",
      "Best 5 Time-Steps Val R2:\n",
      "    Time-step 1: R2 = 0.981690\n",
      "    Time-step 2: R2 = 0.971168\n",
      "    Time-step 3: R2 = 0.960319\n",
      "    Time-step 4: R2 = 0.949038\n",
      "    Time-step 5: R2 = 0.937073\n",
      "\n",
      "-----------------------------------------------------------------\n",
      "\n"
     ]
    },
    {
     "name": "stderr",
     "output_type": "stream",
     "text": [
      "Epoch 4/20: 717it [00:59, 12.11it/s, train_loss=0.019795]\n"
     ]
    },
    {
     "name": "stdout",
     "output_type": "stream",
     "text": [
      "Epoch [4/20], Train Loss: 0.028186, Train R2: 0.977502\n",
      "\n",
      "Worst 5 Time-Steps Train R2:\n",
      "    Time-step 1: R2 = 0.942308\n",
      "    Time-step 2: R2 = 0.969103\n",
      "    Time-step 3: R2 = 0.974161\n",
      "    Time-step 4: R2 = 0.976420\n",
      "    Time-step 5: R2 = 0.977237\n",
      "Best 5 Time-Steps Train R2:\n",
      "    Time-step 23: R2 = 0.978955\n",
      "    Time-step 20: R2 = 0.978933\n",
      "    Time-step 24: R2 = 0.978919\n",
      "    Time-step 21: R2 = 0.978880\n",
      "    Time-step 31: R2 = 0.978848\n",
      "\n"
     ]
    },
    {
     "name": "stderr",
     "output_type": "stream",
     "text": [
      "Epoch 4/20: 207it [00:32,  6.41it/s, val_loss=0.380543]\n"
     ]
    },
    {
     "name": "stdout",
     "output_type": "stream",
     "text": [
      "Epoch [4/20], Val Loss: 0.593133, Val R2: 0.537991\n",
      "\n",
      "Worst 5 Time-Steps Val R2:\n",
      "    Time-step 50: R2 = 0.106507\n",
      "    Time-step 49: R2 = 0.119761\n",
      "    Time-step 48: R2 = 0.131101\n",
      "    Time-step 47: R2 = 0.142994\n",
      "    Time-step 46: R2 = 0.155891\n",
      "Best 5 Time-Steps Val R2:\n",
      "    Time-step 1: R2 = 0.980359\n",
      "    Time-step 2: R2 = 0.969300\n",
      "    Time-step 3: R2 = 0.957432\n",
      "    Time-step 4: R2 = 0.944716\n",
      "    Time-step 5: R2 = 0.931164\n",
      "\n",
      "-----------------------------------------------------------------\n",
      "\n"
     ]
    },
    {
     "name": "stderr",
     "output_type": "stream",
     "text": [
      "Epoch 5/20: 717it [00:59, 11.96it/s, train_loss=0.017609]\n"
     ]
    },
    {
     "name": "stdout",
     "output_type": "stream",
     "text": [
      "Epoch [5/20], Train Loss: 0.026404, Train R2: 0.978878\n",
      "\n",
      "Worst 5 Time-Steps Train R2:\n",
      "    Time-step 1: R2 = 0.948770\n",
      "    Time-step 2: R2 = 0.971557\n",
      "    Time-step 3: R2 = 0.976056\n",
      "    Time-step 4: R2 = 0.977874\n",
      "    Time-step 5: R2 = 0.978641\n",
      "Best 5 Time-Steps Train R2:\n",
      "    Time-step 24: R2 = 0.980075\n",
      "    Time-step 21: R2 = 0.980068\n",
      "    Time-step 23: R2 = 0.980061\n",
      "    Time-step 20: R2 = 0.980045\n",
      "    Time-step 31: R2 = 0.980032\n",
      "\n"
     ]
    },
    {
     "name": "stderr",
     "output_type": "stream",
     "text": [
      "Epoch 5/20: 207it [00:31,  6.48it/s, val_loss=0.393476]\n"
     ]
    },
    {
     "name": "stdout",
     "output_type": "stream",
     "text": [
      "Epoch [5/20], Val Loss: 0.577084, Val R2: 0.559221\n",
      "\n",
      "Worst 5 Time-Steps Val R2:\n",
      "    Time-step 50: R2 = 0.104607\n",
      "    Time-step 49: R2 = 0.118154\n",
      "    Time-step 48: R2 = 0.130873\n",
      "    Time-step 47: R2 = 0.144567\n",
      "    Time-step 46: R2 = 0.159958\n",
      "Best 5 Time-Steps Val R2:\n",
      "    Time-step 1: R2 = 0.982918\n",
      "    Time-step 2: R2 = 0.972699\n",
      "    Time-step 3: R2 = 0.961832\n",
      "    Time-step 4: R2 = 0.949958\n",
      "    Time-step 5: R2 = 0.937177\n",
      "\n",
      "-----------------------------------------------------------------\n",
      "\n"
     ]
    },
    {
     "name": "stderr",
     "output_type": "stream",
     "text": [
      "Epoch 6/20: 717it [00:59, 12.05it/s, train_loss=0.016390]\n"
     ]
    },
    {
     "name": "stdout",
     "output_type": "stream",
     "text": [
      "Epoch [6/20], Train Loss: 0.025325, Train R2: 0.979731\n",
      "\n",
      "Worst 5 Time-Steps Train R2:\n",
      "    Time-step 1: R2 = 0.953284\n",
      "    Time-step 2: R2 = 0.973236\n",
      "    Time-step 3: R2 = 0.977031\n",
      "    Time-step 4: R2 = 0.978877\n",
      "    Time-step 5: R2 = 0.979564\n",
      "Best 5 Time-Steps Train R2:\n",
      "    Time-step 21: R2 = 0.980811\n",
      "    Time-step 23: R2 = 0.980801\n",
      "    Time-step 24: R2 = 0.980781\n",
      "    Time-step 27: R2 = 0.980772\n",
      "    Time-step 28: R2 = 0.980735\n",
      "\n"
     ]
    },
    {
     "name": "stderr",
     "output_type": "stream",
     "text": [
      "Epoch 6/20: 207it [00:32,  6.42it/s, val_loss=0.525756]\n"
     ]
    },
    {
     "name": "stdout",
     "output_type": "stream",
     "text": [
      "Epoch [6/20], Val Loss: 0.659810, Val R2: 0.489659\n",
      "\n",
      "Worst 5 Time-Steps Val R2:\n",
      "    Time-step 50: R2 = -0.051535\n",
      "    Time-step 49: R2 = -0.036388\n",
      "    Time-step 48: R2 = -0.021555\n",
      "    Time-step 47: R2 = -0.004709\n",
      "    Time-step 46: R2 = 0.013892\n",
      "Best 5 Time-Steps Val R2:\n",
      "    Time-step 1: R2 = 0.983638\n",
      "    Time-step 2: R2 = 0.972832\n",
      "    Time-step 3: R2 = 0.961659\n",
      "    Time-step 4: R2 = 0.949368\n",
      "    Time-step 5: R2 = 0.935931\n",
      "\n",
      "-----------------------------------------------------------------\n",
      "\n"
     ]
    },
    {
     "name": "stderr",
     "output_type": "stream",
     "text": [
      "Epoch 7/20: 717it [00:57, 12.41it/s, train_loss=0.016500]\n"
     ]
    },
    {
     "name": "stdout",
     "output_type": "stream",
     "text": [
      "Epoch [7/20], Train Loss: 0.024526, Train R2: 0.980361\n",
      "\n",
      "Worst 5 Time-Steps Train R2:\n",
      "    Time-step 1: R2 = 0.956450\n",
      "    Time-step 2: R2 = 0.974362\n",
      "    Time-step 3: R2 = 0.978102\n",
      "    Time-step 4: R2 = 0.979608\n",
      "    Time-step 5: R2 = 0.980129\n",
      "Best 5 Time-Steps Train R2:\n",
      "    Time-step 23: R2 = 0.981337\n",
      "    Time-step 27: R2 = 0.981330\n",
      "    Time-step 24: R2 = 0.981322\n",
      "    Time-step 14: R2 = 0.981302\n",
      "    Time-step 32: R2 = 0.981298\n",
      "\n"
     ]
    },
    {
     "name": "stderr",
     "output_type": "stream",
     "text": [
      "Epoch 7/20: 207it [00:32,  6.44it/s, val_loss=0.307033]\n"
     ]
    },
    {
     "name": "stdout",
     "output_type": "stream",
     "text": [
      "Epoch [7/20], Val Loss: 0.515544, Val R2: 0.614437\n",
      "\n",
      "Worst 5 Time-Steps Val R2:\n",
      "    Time-step 50: R2 = 0.209079\n",
      "    Time-step 49: R2 = 0.223791\n",
      "    Time-step 48: R2 = 0.236798\n",
      "    Time-step 47: R2 = 0.250636\n",
      "    Time-step 46: R2 = 0.265577\n",
      "Best 5 Time-Steps Val R2:\n",
      "    Time-step 1: R2 = 0.984198\n",
      "    Time-step 2: R2 = 0.973610\n",
      "    Time-step 3: R2 = 0.962998\n",
      "    Time-step 4: R2 = 0.951720\n",
      "    Time-step 5: R2 = 0.939967\n",
      "\n",
      "-----------------------------------------------------------------\n",
      "\n"
     ]
    },
    {
     "name": "stderr",
     "output_type": "stream",
     "text": [
      "Epoch 8/20: 717it [00:56, 12.75it/s, train_loss=0.016197]\n"
     ]
    },
    {
     "name": "stdout",
     "output_type": "stream",
     "text": [
      "Epoch [8/20], Train Loss: 0.023879, Train R2: 0.980856\n",
      "\n",
      "Worst 5 Time-Steps Train R2:\n",
      "    Time-step 1: R2 = 0.959238\n",
      "    Time-step 2: R2 = 0.975437\n",
      "    Time-step 3: R2 = 0.978673\n",
      "    Time-step 4: R2 = 0.980024\n",
      "    Time-step 5: R2 = 0.980563\n",
      "Best 5 Time-Steps Train R2:\n",
      "    Time-step 20: R2 = 0.981745\n",
      "    Time-step 31: R2 = 0.981737\n",
      "    Time-step 34: R2 = 0.981728\n",
      "    Time-step 23: R2 = 0.981722\n",
      "    Time-step 24: R2 = 0.981688\n",
      "\n"
     ]
    },
    {
     "name": "stderr",
     "output_type": "stream",
     "text": [
      "Epoch 8/20: 207it [00:32,  6.46it/s, val_loss=0.317646]\n"
     ]
    },
    {
     "name": "stdout",
     "output_type": "stream",
     "text": [
      "Epoch [8/20], Val Loss: 0.460411, Val R2: 0.649902\n",
      "\n",
      "Worst 5 Time-Steps Val R2:\n",
      "    Time-step 50: R2 = 0.241354\n",
      "    Time-step 49: R2 = 0.259936\n",
      "    Time-step 48: R2 = 0.276762\n",
      "    Time-step 47: R2 = 0.294091\n",
      "    Time-step 46: R2 = 0.312000\n",
      "Best 5 Time-Steps Val R2:\n",
      "    Time-step 1: R2 = 0.985675\n",
      "    Time-step 2: R2 = 0.976711\n",
      "    Time-step 3: R2 = 0.967426\n",
      "    Time-step 4: R2 = 0.957603\n",
      "    Time-step 5: R2 = 0.947676\n",
      "\n",
      "-----------------------------------------------------------------\n",
      "\n"
     ]
    },
    {
     "name": "stderr",
     "output_type": "stream",
     "text": [
      "Epoch 9/20: 717it [00:58, 12.32it/s, train_loss=0.016422]\n"
     ]
    },
    {
     "name": "stdout",
     "output_type": "stream",
     "text": [
      "Epoch [9/20], Train Loss: 0.023488, Train R2: 0.981177\n",
      "\n",
      "Worst 5 Time-Steps Train R2:\n",
      "    Time-step 1: R2 = 0.961292\n",
      "    Time-step 2: R2 = 0.976107\n",
      "    Time-step 3: R2 = 0.979228\n",
      "    Time-step 4: R2 = 0.980466\n",
      "    Time-step 5: R2 = 0.980976\n",
      "Best 5 Time-Steps Train R2:\n",
      "    Time-step 24: R2 = 0.982023\n",
      "    Time-step 33: R2 = 0.982019\n",
      "    Time-step 27: R2 = 0.982009\n",
      "    Time-step 21: R2 = 0.981993\n",
      "    Time-step 18: R2 = 0.981961\n",
      "\n"
     ]
    },
    {
     "name": "stderr",
     "output_type": "stream",
     "text": [
      "Epoch 9/20: 207it [00:35,  5.81it/s, val_loss=0.430189]\n"
     ]
    },
    {
     "name": "stdout",
     "output_type": "stream",
     "text": [
      "Epoch [9/20], Val Loss: 0.512609, Val R2: 0.606170\n",
      "\n",
      "Worst 5 Time-Steps Val R2:\n",
      "    Time-step 50: R2 = 0.206780\n",
      "    Time-step 49: R2 = 0.221777\n",
      "    Time-step 48: R2 = 0.234221\n",
      "    Time-step 47: R2 = 0.247872\n",
      "    Time-step 46: R2 = 0.262753\n",
      "Best 5 Time-Steps Val R2:\n",
      "    Time-step 1: R2 = 0.983343\n",
      "    Time-step 2: R2 = 0.973313\n",
      "    Time-step 3: R2 = 0.962881\n",
      "    Time-step 4: R2 = 0.951660\n",
      "    Time-step 5: R2 = 0.939933\n",
      "\n",
      "-----------------------------------------------------------------\n",
      "\n"
     ]
    },
    {
     "name": "stderr",
     "output_type": "stream",
     "text": [
      "Epoch 10/20: 717it [01:05, 10.99it/s, train_loss=0.015257]\n"
     ]
    },
    {
     "name": "stdout",
     "output_type": "stream",
     "text": [
      "Epoch [10/20], Train Loss: 0.023021, Train R2: 0.981533\n",
      "\n",
      "Worst 5 Time-Steps Train R2:\n",
      "    Time-step 1: R2 = 0.962919\n",
      "    Time-step 2: R2 = 0.976710\n",
      "    Time-step 3: R2 = 0.979630\n",
      "    Time-step 4: R2 = 0.980907\n",
      "    Time-step 5: R2 = 0.981308\n",
      "Best 5 Time-Steps Train R2:\n",
      "    Time-step 21: R2 = 0.982340\n",
      "    Time-step 33: R2 = 0.982315\n",
      "    Time-step 24: R2 = 0.982299\n",
      "    Time-step 23: R2 = 0.982281\n",
      "    Time-step 19: R2 = 0.982272\n",
      "\n"
     ]
    },
    {
     "name": "stderr",
     "output_type": "stream",
     "text": [
      "Epoch 10/20: 207it [00:32,  6.44it/s, val_loss=0.453233]\n"
     ]
    },
    {
     "name": "stdout",
     "output_type": "stream",
     "text": [
      "Epoch [10/20], Val Loss: 0.523062, Val R2: 0.600656\n",
      "\n",
      "Worst 5 Time-Steps Val R2:\n",
      "    Time-step 50: R2 = 0.142204\n",
      "    Time-step 49: R2 = 0.161304\n",
      "    Time-step 48: R2 = 0.179130\n",
      "    Time-step 47: R2 = 0.198121\n",
      "    Time-step 46: R2 = 0.218011\n",
      "Best 5 Time-Steps Val R2:\n",
      "    Time-step 1: R2 = 0.984945\n",
      "    Time-step 2: R2 = 0.975149\n",
      "    Time-step 3: R2 = 0.964988\n",
      "    Time-step 4: R2 = 0.954057\n",
      "    Time-step 5: R2 = 0.942754\n",
      "\n",
      "-----------------------------------------------------------------\n",
      "\n"
     ]
    },
    {
     "name": "stderr",
     "output_type": "stream",
     "text": [
      "Epoch 11/20: 717it [00:57, 12.45it/s, train_loss=0.015790]\n"
     ]
    },
    {
     "name": "stdout",
     "output_type": "stream",
     "text": [
      "Epoch [11/20], Train Loss: 0.022598, Train R2: 0.981866\n",
      "\n",
      "Worst 5 Time-Steps Train R2:\n",
      "    Time-step 1: R2 = 0.964703\n",
      "    Time-step 2: R2 = 0.977514\n",
      "    Time-step 3: R2 = 0.980147\n",
      "    Time-step 4: R2 = 0.981247\n",
      "    Time-step 5: R2 = 0.981549\n",
      "Best 5 Time-Steps Train R2:\n",
      "    Time-step 21: R2 = 0.982581\n",
      "    Time-step 31: R2 = 0.982574\n",
      "    Time-step 28: R2 = 0.982549\n",
      "    Time-step 23: R2 = 0.982542\n",
      "    Time-step 32: R2 = 0.982537\n",
      "\n"
     ]
    },
    {
     "name": "stderr",
     "output_type": "stream",
     "text": [
      "Epoch 11/20: 207it [00:32,  6.37it/s, val_loss=0.464095]\n"
     ]
    },
    {
     "name": "stdout",
     "output_type": "stream",
     "text": [
      "Epoch [11/20], Val Loss: 0.754401, Val R2: 0.429746\n",
      "\n",
      "Worst 5 Time-Steps Val R2:\n",
      "    Time-step 50: R2 = -0.170061\n",
      "    Time-step 49: R2 = -0.148937\n",
      "    Time-step 48: R2 = -0.129530\n",
      "    Time-step 47: R2 = -0.110064\n",
      "    Time-step 46: R2 = -0.090309\n",
      "Best 5 Time-Steps Val R2:\n",
      "    Time-step 1: R2 = 0.983468\n",
      "    Time-step 2: R2 = 0.972692\n",
      "    Time-step 3: R2 = 0.960914\n",
      "    Time-step 4: R2 = 0.947411\n",
      "    Time-step 5: R2 = 0.932486\n",
      "\n",
      "-----------------------------------------------------------------\n",
      "\n"
     ]
    },
    {
     "name": "stderr",
     "output_type": "stream",
     "text": [
      "Epoch 12/20: 717it [00:55, 12.81it/s, train_loss=0.015342]\n"
     ]
    },
    {
     "name": "stdout",
     "output_type": "stream",
     "text": [
      "Epoch [12/20], Train Loss: 0.022378, Train R2: 0.982033\n",
      "\n",
      "Worst 5 Time-Steps Train R2:\n",
      "    Time-step 1: R2 = 0.965858\n",
      "    Time-step 2: R2 = 0.977806\n",
      "    Time-step 3: R2 = 0.980392\n",
      "    Time-step 4: R2 = 0.981436\n",
      "    Time-step 5: R2 = 0.981783\n",
      "Best 5 Time-Steps Train R2:\n",
      "    Time-step 24: R2 = 0.982749\n",
      "    Time-step 17: R2 = 0.982725\n",
      "    Time-step 14: R2 = 0.982718\n",
      "    Time-step 22: R2 = 0.982693\n",
      "    Time-step 21: R2 = 0.982692\n",
      "\n"
     ]
    },
    {
     "name": "stderr",
     "output_type": "stream",
     "text": [
      "Epoch 12/20: 207it [00:31,  6.50it/s, val_loss=0.439490]\n"
     ]
    },
    {
     "name": "stdout",
     "output_type": "stream",
     "text": [
      "Epoch [12/20], Val Loss: 0.542286, Val R2: 0.583064\n",
      "\n",
      "Worst 5 Time-Steps Val R2:\n",
      "    Time-step 50: R2 = 0.174647\n",
      "    Time-step 49: R2 = 0.186519\n",
      "    Time-step 48: R2 = 0.197248\n",
      "    Time-step 47: R2 = 0.209095\n",
      "    Time-step 46: R2 = 0.221890\n",
      "Best 5 Time-Steps Val R2:\n",
      "    Time-step 1: R2 = 0.985138\n",
      "    Time-step 2: R2 = 0.975758\n",
      "    Time-step 3: R2 = 0.965709\n",
      "    Time-step 4: R2 = 0.954600\n",
      "    Time-step 5: R2 = 0.943070\n",
      "\n",
      "-----------------------------------------------------------------\n",
      "\n"
     ]
    },
    {
     "name": "stderr",
     "output_type": "stream",
     "text": [
      "Epoch 13/20: 717it [00:55, 12.82it/s, train_loss=0.015513]\n"
     ]
    },
    {
     "name": "stdout",
     "output_type": "stream",
     "text": [
      "Epoch [13/20], Train Loss: 0.022132, Train R2: 0.982237\n",
      "\n",
      "Worst 5 Time-Steps Train R2:\n",
      "    Time-step 1: R2 = 0.967079\n",
      "    Time-step 2: R2 = 0.978432\n",
      "    Time-step 3: R2 = 0.980681\n",
      "    Time-step 4: R2 = 0.981588\n",
      "    Time-step 5: R2 = 0.982013\n",
      "Best 5 Time-Steps Train R2:\n",
      "    Time-step 24: R2 = 0.982925\n",
      "    Time-step 26: R2 = 0.982901\n",
      "    Time-step 20: R2 = 0.982874\n",
      "    Time-step 30: R2 = 0.982864\n",
      "    Time-step 23: R2 = 0.982858\n",
      "\n"
     ]
    },
    {
     "name": "stderr",
     "output_type": "stream",
     "text": [
      "Epoch 13/20: 207it [00:32,  6.46it/s, val_loss=0.312061]\n"
     ]
    },
    {
     "name": "stdout",
     "output_type": "stream",
     "text": [
      "Epoch [13/20], Val Loss: 0.495401, Val R2: 0.623213\n",
      "\n",
      "Worst 5 Time-Steps Val R2:\n",
      "    Time-step 50: R2 = 0.245649\n",
      "    Time-step 49: R2 = 0.259927\n",
      "    Time-step 48: R2 = 0.272308\n",
      "    Time-step 47: R2 = 0.285437\n",
      "    Time-step 46: R2 = 0.299099\n",
      "Best 5 Time-Steps Val R2:\n",
      "    Time-step 1: R2 = 0.982784\n",
      "    Time-step 2: R2 = 0.973389\n",
      "    Time-step 3: R2 = 0.962997\n",
      "    Time-step 4: R2 = 0.951550\n",
      "    Time-step 5: R2 = 0.940050\n",
      "\n",
      "-----------------------------------------------------------------\n",
      "\n"
     ]
    },
    {
     "name": "stderr",
     "output_type": "stream",
     "text": [
      "Epoch 14/20: 717it [00:57, 12.44it/s, train_loss=0.014802]\n"
     ]
    },
    {
     "name": "stdout",
     "output_type": "stream",
     "text": [
      "Epoch [14/20], Train Loss: 0.021791, Train R2: 0.982487\n",
      "\n",
      "Worst 5 Time-Steps Train R2:\n",
      "    Time-step 1: R2 = 0.968497\n",
      "    Time-step 2: R2 = 0.978848\n",
      "    Time-step 3: R2 = 0.981063\n",
      "    Time-step 4: R2 = 0.981873\n",
      "    Time-step 5: R2 = 0.982247\n",
      "Best 5 Time-Steps Train R2:\n",
      "    Time-step 33: R2 = 0.983084\n",
      "    Time-step 27: R2 = 0.983083\n",
      "    Time-step 24: R2 = 0.983081\n",
      "    Time-step 18: R2 = 0.983075\n",
      "    Time-step 26: R2 = 0.983057\n",
      "\n"
     ]
    },
    {
     "name": "stderr",
     "output_type": "stream",
     "text": [
      "Epoch 14/20: 207it [00:32,  6.36it/s, val_loss=0.303671]\n"
     ]
    },
    {
     "name": "stdout",
     "output_type": "stream",
     "text": [
      "Epoch [14/20], Val Loss: 0.560731, Val R2: 0.585365\n",
      "\n",
      "Worst 5 Time-Steps Val R2:\n",
      "    Time-step 50: R2 = 0.119055\n",
      "    Time-step 49: R2 = 0.134726\n",
      "    Time-step 48: R2 = 0.149961\n",
      "    Time-step 47: R2 = 0.165885\n",
      "    Time-step 46: R2 = 0.182778\n",
      "Best 5 Time-Steps Val R2:\n",
      "    Time-step 1: R2 = 0.986380\n",
      "    Time-step 2: R2 = 0.977204\n",
      "    Time-step 3: R2 = 0.967272\n",
      "    Time-step 4: R2 = 0.956473\n",
      "    Time-step 5: R2 = 0.945399\n",
      "\n",
      "-----------------------------------------------------------------\n",
      "\n"
     ]
    },
    {
     "name": "stderr",
     "output_type": "stream",
     "text": [
      "Epoch 15/20: 717it [01:07, 10.68it/s, train_loss=0.015295]\n"
     ]
    },
    {
     "name": "stdout",
     "output_type": "stream",
     "text": [
      "Epoch [15/20], Train Loss: 0.021615, Train R2: 0.982626\n",
      "\n",
      "Worst 5 Time-Steps Train R2:\n",
      "    Time-step 1: R2 = 0.969423\n",
      "    Time-step 2: R2 = 0.979194\n",
      "    Time-step 3: R2 = 0.981269\n",
      "    Time-step 4: R2 = 0.982104\n",
      "    Time-step 5: R2 = 0.982376\n",
      "Best 5 Time-Steps Train R2:\n",
      "    Time-step 24: R2 = 0.983248\n",
      "    Time-step 30: R2 = 0.983188\n",
      "    Time-step 27: R2 = 0.983176\n",
      "    Time-step 33: R2 = 0.983171\n",
      "    Time-step 17: R2 = 0.983153\n",
      "\n"
     ]
    },
    {
     "name": "stderr",
     "output_type": "stream",
     "text": [
      "Epoch 15/20: 207it [00:32,  6.45it/s, val_loss=0.275323]\n"
     ]
    },
    {
     "name": "stdout",
     "output_type": "stream",
     "text": [
      "Epoch [15/20], Val Loss: 0.492508, Val R2: 0.627994\n",
      "\n",
      "Worst 5 Time-Steps Val R2:\n",
      "    Time-step 50: R2 = 0.216707\n",
      "    Time-step 49: R2 = 0.232261\n",
      "    Time-step 48: R2 = 0.246395\n",
      "    Time-step 47: R2 = 0.261488\n",
      "    Time-step 46: R2 = 0.277006\n",
      "Best 5 Time-Steps Val R2:\n",
      "    Time-step 1: R2 = 0.987461\n",
      "    Time-step 2: R2 = 0.978661\n",
      "    Time-step 3: R2 = 0.969121\n",
      "    Time-step 4: R2 = 0.958794\n",
      "    Time-step 5: R2 = 0.948423\n",
      "\n",
      "-----------------------------------------------------------------\n",
      "\n"
     ]
    },
    {
     "name": "stderr",
     "output_type": "stream",
     "text": [
      "Epoch 16/20: 717it [00:56, 12.67it/s, train_loss=0.015314]\n"
     ]
    },
    {
     "name": "stdout",
     "output_type": "stream",
     "text": [
      "Epoch [16/20], Train Loss: 0.021467, Train R2: 0.982742\n",
      "\n",
      "Worst 5 Time-Steps Train R2:\n",
      "    Time-step 1: R2 = 0.970160\n",
      "    Time-step 2: R2 = 0.979505\n",
      "    Time-step 3: R2 = 0.981429\n",
      "    Time-step 4: R2 = 0.982157\n",
      "    Time-step 5: R2 = 0.982479\n",
      "Best 5 Time-Steps Train R2:\n",
      "    Time-step 24: R2 = 0.983352\n",
      "    Time-step 21: R2 = 0.983338\n",
      "    Time-step 17: R2 = 0.983273\n",
      "    Time-step 31: R2 = 0.983268\n",
      "    Time-step 16: R2 = 0.983261\n",
      "\n"
     ]
    },
    {
     "name": "stderr",
     "output_type": "stream",
     "text": [
      "Epoch 16/20: 207it [00:32,  6.47it/s, val_loss=0.434839]\n"
     ]
    },
    {
     "name": "stdout",
     "output_type": "stream",
     "text": [
      "Epoch [16/20], Val Loss: 0.512415, Val R2: 0.604999\n",
      "\n",
      "Worst 5 Time-Steps Val R2:\n",
      "    Time-step 50: R2 = 0.191320\n",
      "    Time-step 49: R2 = 0.204719\n",
      "    Time-step 48: R2 = 0.217296\n",
      "    Time-step 47: R2 = 0.230908\n",
      "    Time-step 46: R2 = 0.245443\n",
      "Best 5 Time-Steps Val R2:\n",
      "    Time-step 1: R2 = 0.986476\n",
      "    Time-step 2: R2 = 0.976733\n",
      "    Time-step 3: R2 = 0.965957\n",
      "    Time-step 4: R2 = 0.954194\n",
      "    Time-step 5: R2 = 0.942228\n",
      "\n",
      "-----------------------------------------------------------------\n",
      "\n"
     ]
    },
    {
     "name": "stderr",
     "output_type": "stream",
     "text": [
      "Epoch 17/20: 717it [00:58, 12.24it/s, train_loss=0.015484]\n"
     ]
    },
    {
     "name": "stdout",
     "output_type": "stream",
     "text": [
      "Epoch [17/20], Train Loss: 0.021327, Train R2: 0.982858\n",
      "\n",
      "Worst 5 Time-Steps Train R2:\n",
      "    Time-step 1: R2 = 0.970943\n",
      "    Time-step 2: R2 = 0.979702\n",
      "    Time-step 3: R2 = 0.981597\n",
      "    Time-step 4: R2 = 0.982336\n",
      "    Time-step 5: R2 = 0.982534\n",
      "Best 5 Time-Steps Train R2:\n",
      "    Time-step 27: R2 = 0.983421\n",
      "    Time-step 23: R2 = 0.983399\n",
      "    Time-step 31: R2 = 0.983388\n",
      "    Time-step 33: R2 = 0.983387\n",
      "    Time-step 24: R2 = 0.983387\n",
      "\n"
     ]
    },
    {
     "name": "stderr",
     "output_type": "stream",
     "text": [
      "Epoch 17/20: 207it [00:32,  6.31it/s, val_loss=0.465667]\n"
     ]
    },
    {
     "name": "stdout",
     "output_type": "stream",
     "text": [
      "Epoch [17/20], Val Loss: 0.486258, Val R2: 0.624820\n",
      "\n",
      "Worst 5 Time-Steps Val R2:\n",
      "    Time-step 50: R2 = 0.238789\n",
      "    Time-step 49: R2 = 0.253072\n",
      "    Time-step 48: R2 = 0.265596\n",
      "    Time-step 47: R2 = 0.279410\n",
      "    Time-step 46: R2 = 0.294203\n",
      "Best 5 Time-Steps Val R2:\n",
      "    Time-step 1: R2 = 0.983271\n",
      "    Time-step 2: R2 = 0.974147\n",
      "    Time-step 3: R2 = 0.963954\n",
      "    Time-step 4: R2 = 0.952797\n",
      "    Time-step 5: R2 = 0.941657\n",
      "\n",
      "-----------------------------------------------------------------\n",
      "\n"
     ]
    },
    {
     "name": "stderr",
     "output_type": "stream",
     "text": [
      "Epoch 18/20: 717it [01:00, 11.81it/s, train_loss=0.014230]\n"
     ]
    },
    {
     "name": "stdout",
     "output_type": "stream",
     "text": [
      "Epoch [18/20], Train Loss: 0.021112, Train R2: 0.983010\n",
      "\n",
      "Worst 5 Time-Steps Train R2:\n",
      "    Time-step 1: R2 = 0.971619\n",
      "    Time-step 2: R2 = 0.980036\n",
      "    Time-step 3: R2 = 0.981783\n",
      "    Time-step 4: R2 = 0.982512\n",
      "    Time-step 5: R2 = 0.982715\n",
      "Best 5 Time-Steps Train R2:\n",
      "    Time-step 23: R2 = 0.983566\n",
      "    Time-step 27: R2 = 0.983549\n",
      "    Time-step 21: R2 = 0.983544\n",
      "    Time-step 34: R2 = 0.983532\n",
      "    Time-step 17: R2 = 0.983512\n",
      "\n"
     ]
    },
    {
     "name": "stderr",
     "output_type": "stream",
     "text": [
      "Epoch 18/20: 207it [00:35,  5.78it/s, val_loss=0.343186]\n"
     ]
    },
    {
     "name": "stdout",
     "output_type": "stream",
     "text": [
      "Epoch [18/20], Val Loss: 0.483735, Val R2: 0.630949\n",
      "\n",
      "Worst 5 Time-Steps Val R2:\n",
      "    Time-step 50: R2 = 0.225501\n",
      "    Time-step 49: R2 = 0.240521\n",
      "    Time-step 48: R2 = 0.254640\n",
      "    Time-step 47: R2 = 0.269776\n",
      "    Time-step 46: R2 = 0.285181\n",
      "Best 5 Time-Steps Val R2:\n",
      "    Time-step 1: R2 = 0.988403\n",
      "    Time-step 2: R2 = 0.979641\n",
      "    Time-step 3: R2 = 0.970678\n",
      "    Time-step 4: R2 = 0.961042\n",
      "    Time-step 5: R2 = 0.951159\n",
      "\n",
      "-----------------------------------------------------------------\n",
      "\n"
     ]
    },
    {
     "name": "stderr",
     "output_type": "stream",
     "text": [
      "Epoch 19/20: 717it [01:06, 10.79it/s, train_loss=0.015888]\n"
     ]
    },
    {
     "name": "stdout",
     "output_type": "stream",
     "text": [
      "Epoch [19/20], Train Loss: 0.021028, Train R2: 0.983085\n",
      "\n",
      "Worst 5 Time-Steps Train R2:\n",
      "    Time-step 1: R2 = 0.972389\n",
      "    Time-step 2: R2 = 0.980208\n",
      "    Time-step 3: R2 = 0.981872\n",
      "    Time-step 4: R2 = 0.982515\n",
      "    Time-step 5: R2 = 0.982680\n",
      "Best 5 Time-Steps Train R2:\n",
      "    Time-step 34: R2 = 0.983651\n",
      "    Time-step 21: R2 = 0.983593\n",
      "    Time-step 24: R2 = 0.983571\n",
      "    Time-step 31: R2 = 0.983534\n",
      "    Time-step 17: R2 = 0.983530\n",
      "\n"
     ]
    },
    {
     "name": "stderr",
     "output_type": "stream",
     "text": [
      "Epoch 19/20: 207it [00:32,  6.31it/s, val_loss=0.269105]\n"
     ]
    },
    {
     "name": "stdout",
     "output_type": "stream",
     "text": [
      "Epoch [19/20], Val Loss: 0.466958, Val R2: 0.645217\n",
      "\n",
      "Worst 5 Time-Steps Val R2:\n",
      "    Time-step 50: R2 = 0.266501\n",
      "    Time-step 49: R2 = 0.280038\n",
      "    Time-step 48: R2 = 0.292754\n",
      "    Time-step 47: R2 = 0.306710\n",
      "    Time-step 46: R2 = 0.321402\n",
      "Best 5 Time-Steps Val R2:\n",
      "    Time-step 1: R2 = 0.986019\n",
      "    Time-step 2: R2 = 0.977625\n",
      "    Time-step 3: R2 = 0.968279\n",
      "    Time-step 4: R2 = 0.957999\n",
      "    Time-step 5: R2 = 0.947578\n",
      "\n",
      "-----------------------------------------------------------------\n",
      "\n"
     ]
    },
    {
     "name": "stderr",
     "output_type": "stream",
     "text": [
      "Epoch 20/20: 717it [00:56, 12.76it/s, train_loss=0.013840]\n"
     ]
    },
    {
     "name": "stdout",
     "output_type": "stream",
     "text": [
      "Epoch [20/20], Train Loss: 0.020814, Train R2: 0.983243\n",
      "\n",
      "Worst 5 Time-Steps Train R2:\n",
      "    Time-step 1: R2 = 0.972956\n",
      "    Time-step 2: R2 = 0.980486\n",
      "    Time-step 3: R2 = 0.982092\n",
      "    Time-step 4: R2 = 0.982702\n",
      "    Time-step 5: R2 = 0.982961\n",
      "Best 5 Time-Steps Train R2:\n",
      "    Time-step 33: R2 = 0.983737\n",
      "    Time-step 34: R2 = 0.983724\n",
      "    Time-step 23: R2 = 0.983703\n",
      "    Time-step 31: R2 = 0.983701\n",
      "    Time-step 20: R2 = 0.983700\n",
      "\n"
     ]
    },
    {
     "name": "stderr",
     "output_type": "stream",
     "text": [
      "Epoch 20/20: 207it [00:32,  6.47it/s, val_loss=0.312622]"
     ]
    },
    {
     "name": "stdout",
     "output_type": "stream",
     "text": [
      "Epoch [20/20], Val Loss: 0.416274, Val R2: 0.678230\n",
      "\n",
      "Worst 5 Time-Steps Val R2:\n",
      "    Time-step 50: R2 = 0.329880\n",
      "    Time-step 49: R2 = 0.344385\n",
      "    Time-step 48: R2 = 0.357542\n",
      "    Time-step 47: R2 = 0.371504\n",
      "    Time-step 46: R2 = 0.385730\n",
      "Best 5 Time-Steps Val R2:\n",
      "    Time-step 1: R2 = 0.988314\n",
      "    Time-step 2: R2 = 0.979743\n",
      "    Time-step 3: R2 = 0.971093\n",
      "    Time-step 4: R2 = 0.961890\n",
      "    Time-step 5: R2 = 0.952642\n",
      "\n",
      "-----------------------------------------------------------------\n",
      "\n"
     ]
    },
    {
     "name": "stderr",
     "output_type": "stream",
     "text": [
      "\n"
     ]
    }
   ],
   "source": [
    "model = TimeSeriesHuggingFaceTransformer(\n",
    "    input_window_len = input_window_length,\n",
    "    output_window_len = label_window_length,\n",
    "    input_dim = len(input_features),\n",
    "    output_dim = len(label_features),\n",
    "    d_model = embedding_dim,\n",
    "    num_head = num_attention_head,\n",
    "    num_encoder_layers = num_encoder_layers,\n",
    "    num_decoder_layers = num_encoder_layers,\n",
    "    position_wise_ffn_dim = position_wise_nn_dim,\n",
    "    relative_attention_num_buckets = relative_attention_num_buckets,\n",
    "    dropout = dropout\n",
    ").to(device)\n",
    "\n",
    "overfit_monitor = Overfit()\n",
    "\n",
    "print(f\"Number of trainable parameters in the model: {sum(p.numel() for p in model.parameters() if p.requires_grad)}\\n\")\n",
    "\n",
    "criterion = torch.nn.MSELoss()\n",
    "optimizer = torch.optim.Adam(\n",
    "    model.parameters(),\n",
    "    lr = learning_rate\n",
    ")\n",
    "\n",
    "train_r2 = R2Score(multioutput = \"uniform_average\").to(device)\n",
    "val_r2 = R2Score(multioutput = \"uniform_average\").to(device)\n",
    "\n",
    "train_per_timestep_r2 = [R2Score(multioutput = \"uniform_average\").to(device) for _ in range(label_window_length)]\n",
    "val_per_timestep_r2 = [R2Score(multioutput = \"uniform_average\").to(device) for _ in range(label_window_length)]\n",
    "\n",
    "overfit_count = 0\n",
    "\n",
    "for epoch in range(epochs):\n",
    "    train_loss, train_r2_value = train(\n",
    "        model = model,\n",
    "        optimizer = optimizer,\n",
    "        criterion = criterion,\n",
    "        r2 = train_r2,\n",
    "        per_timestep_r2 = train_per_timestep_r2,\n",
    "        data_loader = data_loader_train,\n",
    "        device = device,\n",
    "        epoch = epoch,\n",
    "        total_epochs = epochs\n",
    "    )\n",
    "\n",
    "    val_loss, val_r2_value = validate(\n",
    "        model = model,\n",
    "        criterion = criterion,\n",
    "        r2 = val_r2,\n",
    "        per_timestep_r2 = val_per_timestep_r2,\n",
    "        data_loader = data_loader_val,\n",
    "        device = device,\n",
    "        epoch = epoch,\n",
    "        total_epochs = epochs\n",
    "    )\n",
    "\n",
    "    # if(overfit_monitor.check(epoch = epoch, train_loss = train_loss, val_loss = val_loss)):\n",
    "    #     break"
   ]
  },
  {
   "cell_type": "code",
   "execution_count": 6,
   "id": "02088250",
   "metadata": {},
   "outputs": [],
   "source": [
    "torch.save(model, model_path)\n",
    "\n",
    "description = '''\n",
    "dataset: random\n",
    "bos_projector: non-linear (1 LeakyReLU)\n",
    "bos_input: encoder hidden state of last input time-step\n",
    "positional encoding: sin, cos\n",
    "Loss: MSE\n",
    "seed_val: 20\n",
    "num_single_sample_timesteps: 1000\n",
    "input_window_len: 100\n",
    "label_window_len: 50\n",
    "window_stride: 10\n",
    "relative_attention_num_buckets: 64\n",
    "embedding_dim: 128\n",
    "num_attention_head: 8\n",
    "num_encoder_layers: 5\n",
    "num_decoder_layers: 5\n",
    "position_wise_nn_dim: 64\n",
    "dropout: 0.5\n",
    "batch_size: 128\n",
    "epochs: 20\n",
    "learning_rate: 0.0005\n",
    "psi_e, b_e, psi_plus, b_plus, u_list, eta_list -> psi_e, b_e, psi_plus, b_plus, u_list\n",
    "\n",
    "'''\n",
    "\n",
    "with open(\"./results/experiments.txt\", mode = \"a\") as f:\n",
    "    f.write(str(datetime.now()).replace(\" \", \"-\") + \"\\n\")\n",
    "    f.write(f\"{model_path}\\n\\n\")\n",
    "    f.write(f\"Training Loss: {train_loss}, Training R2: {train_r2_value}\\n\")\n",
    "    f.write(f\"Validation Loss: {val_loss}, Validation R2: {val_r2_value}\\n\")\n",
    "    f.write(description)\n",
    "    f.write(\"==========================================\\n\")"
   ]
  },
  {
   "cell_type": "code",
   "execution_count": null,
   "id": "ee160512",
   "metadata": {},
   "outputs": [],
   "source": []
  },
  {
   "cell_type": "code",
   "execution_count": null,
   "id": "9bbe7a52",
   "metadata": {},
   "outputs": [],
   "source": []
  },
  {
   "cell_type": "code",
   "execution_count": null,
   "id": "401b6bc9",
   "metadata": {},
   "outputs": [],
   "source": []
  },
  {
   "cell_type": "code",
   "execution_count": null,
   "id": "5730cf0c",
   "metadata": {},
   "outputs": [],
   "source": []
  }
 ],
 "metadata": {
  "kernelspec": {
   "display_name": "thesis",
   "language": "python",
   "name": "python3"
  },
  "language_info": {
   "codemirror_mode": {
    "name": "ipython",
    "version": 3
   },
   "file_extension": ".py",
   "mimetype": "text/x-python",
   "name": "python",
   "nbconvert_exporter": "python",
   "pygments_lexer": "ipython3",
   "version": "3.10.12"
  }
 },
 "nbformat": 4,
 "nbformat_minor": 5
}

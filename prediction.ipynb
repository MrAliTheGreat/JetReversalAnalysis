{
 "cells": [
  {
   "cell_type": "code",
   "execution_count": null,
   "id": "96fa0c95",
   "metadata": {},
   "outputs": [],
   "source": [
    "import json\n",
    "import torch"
   ]
  },
  {
   "cell_type": "code",
   "execution_count": null,
   "id": "6db18d61",
   "metadata": {},
   "outputs": [],
   "source": [
    "with open(\"./params.json\", mode = \"r\", encoding = \"utf-8\") as f:\n",
    "    data = json.load(f)\n",
    "    model_path = data[\"model_path\"]\n",
    "    num_single_sample_timesteps = data[\"num_single_sample_timesteps\"]\n",
    "    input_window_length = data[\"input_window_length\"]\n",
    "    label_window_length = num_single_sample_timesteps - input_window_length\n",
    "    input_features = data[\"input_features\"]\n",
    "    label_features = data[\"label_features\"]"
   ]
  },
  {
   "cell_type": "code",
   "execution_count": null,
   "id": "056559ee",
   "metadata": {},
   "outputs": [],
   "source": [
    "model = torch.load(model_path, weights_only = False)\n",
    "model.eval()"
   ]
  },
  {
   "cell_type": "code",
   "execution_count": null,
   "id": "26632535",
   "metadata": {},
   "outputs": [],
   "source": []
  },
  {
   "cell_type": "code",
   "execution_count": null,
   "id": "19b796c7",
   "metadata": {},
   "outputs": [],
   "source": []
  },
  {
   "cell_type": "code",
   "execution_count": null,
   "id": "820b1d37",
   "metadata": {},
   "outputs": [],
   "source": []
  }
 ],
 "metadata": {
  "kernelspec": {
   "display_name": "thesis",
   "language": "python",
   "name": "python3"
  },
  "language_info": {
   "codemirror_mode": {
    "name": "ipython",
    "version": 3
   },
   "file_extension": ".py",
   "mimetype": "text/x-python",
   "name": "python",
   "nbconvert_exporter": "python",
   "pygments_lexer": "ipython3",
   "version": "3.11.0"
  }
 },
 "nbformat": 4,
 "nbformat_minor": 5
}

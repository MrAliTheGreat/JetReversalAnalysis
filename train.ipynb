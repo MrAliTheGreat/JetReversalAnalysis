{
 "cells": [
  {
   "cell_type": "code",
   "execution_count": 1,
   "id": "917c5cbc",
   "metadata": {},
   "outputs": [],
   "source": [
    "import json\n",
    "\n",
    "with open(\"./params.json\", mode = \"r\", encoding = \"utf-8\") as f:\n",
    "    data = json.load(f)\n",
    "    seed_val = data[\"seed_val\"]\n",
    "    model_path = data[\"model_path\"]\n",
    "    dataset_path_train = data[\"dataset_path\"][\"train\"]\n",
    "    dataset_path_val = data[\"dataset_path\"][\"validation\"]\n",
    "    dataset_path_test = data[\"dataset_path\"][\"test\"]\n",
    "    num_single_sample_timesteps = data[\"num_single_sample_timesteps\"]\n",
    "    window_stride = data[\"window_stride\"]\n",
    "    input_window_length = data[\"input_window_length\"]\n",
    "    label_window_length = data[\"label_window_length\"]\n",
    "    input_features = data[\"input_features\"]\n",
    "    label_features = data[\"label_features\"]\n",
    "    relative_attention_num_buckets = data[\"relative_attention_num_buckets\"]\n",
    "    embedding_dim = data[\"embedding_dim\"]\n",
    "    num_attention_head = data[\"num_attention_head\"]\n",
    "    num_encoder_layers = data[\"num_encoder_layers\"]\n",
    "    num_decoder_layers = data[\"num_decoder_layers\"]\n",
    "    position_wise_nn_dim = data[\"position_wise_nn_dim\"]\n",
    "    dropout = data[\"dropout\"]\n",
    "    batch_size = data[\"batch_size\"]\n",
    "    epochs = data[\"epochs\"]\n",
    "    learning_rate = data[\"learning_rate\"]"
   ]
  },
  {
   "cell_type": "code",
   "execution_count": 2,
   "id": "1b44d554",
   "metadata": {},
   "outputs": [],
   "source": [
    "import random\n",
    "import numpy as np\n",
    "import torch\n",
    "\n",
    "device = torch.device(\"cuda\" if torch.cuda.is_available() else \"cpu\")\n",
    "\n",
    "torch.manual_seed(seed_val)\n",
    "random.seed(seed_val)\n",
    "np.random.seed(seed_val)"
   ]
  },
  {
   "cell_type": "code",
   "execution_count": 3,
   "id": "2c01badd",
   "metadata": {},
   "outputs": [
    {
     "name": "stderr",
     "output_type": "stream",
     "text": [
      "/users/labnet5/gr5/abahari/Documents/Thesis/src/thesis/lib/python3.10/site-packages/tqdm/auto.py:21: TqdmWarning: IProgress not found. Please update jupyter and ipywidgets. See https://ipywidgets.readthedocs.io/en/stable/user_install.html\n",
      "  from .autonotebook import tqdm as notebook_tqdm\n"
     ]
    }
   ],
   "source": [
    "from torch.utils.data import DataLoader\n",
    "from torchmetrics.regression import R2Score\n",
    "from datetime import datetime\n",
    "\n",
    "from utils.pipeline.Data import get_mean_std_respected_temporal, WindowedIterableDataset\n",
    "from utils.pipeline.Model import TimeSeriesHuggingFaceTransformer\n",
    "from utils.pipeline.Run import train, validate\n",
    "from utils.pipeline.Monitor import Overfit"
   ]
  },
  {
   "cell_type": "code",
   "execution_count": 4,
   "id": "33375a1f",
   "metadata": {},
   "outputs": [],
   "source": [
    "##### TRAIN #####\n",
    "# stats = get_mean_std(\n",
    "#     dataset_path = dataset_path_train,\n",
    "#     cols = input_features\n",
    "# )\n",
    "\n",
    "stats = get_mean_std_respected_temporal(\n",
    "    dataset_path = dataset_path_train,\n",
    "    cols = input_features,\n",
    "    num_single_sample_timesteps = num_single_sample_timesteps,\n",
    "    input_window_len = input_window_length,\n",
    "    label_window_len = label_window_length,\n",
    "    window_stride = window_stride\n",
    ")\n",
    "\n",
    "df_train = WindowedIterableDataset(\n",
    "    dataset_path = dataset_path_train,\n",
    "    stats = stats,\n",
    "    input_features = input_features,\n",
    "    label_features = label_features,\n",
    "    num_single_sample_timesteps = num_single_sample_timesteps,\n",
    "    stride = window_stride,\n",
    "    input_window_length = input_window_length,\n",
    "    label_window_length = label_window_length\n",
    ")\n",
    "\n",
    "data_loader_train = DataLoader(\n",
    "    df_train,\n",
    "    batch_size = batch_size,\n",
    "    # num_workers = 0,\n",
    "    # prefetch_factor = 12,\n",
    "    # persistent_workers = False,\n",
    "    pin_memory = True\n",
    ")\n",
    "\n",
    "\n",
    "\n",
    "##### VALIDATION #####\n",
    "df_val = WindowedIterableDataset(\n",
    "    dataset_path = dataset_path_val,\n",
    "    stats = stats,\n",
    "    input_features = input_features,\n",
    "    label_features = label_features,\n",
    "    num_single_sample_timesteps = num_single_sample_timesteps,\n",
    "    stride = window_stride,\n",
    "    input_window_length = input_window_length,\n",
    "    label_window_length = label_window_length\n",
    ")\n",
    "\n",
    "data_loader_val = DataLoader(\n",
    "    df_val,\n",
    "    batch_size = batch_size,\n",
    "    # num_workers = 0,\n",
    "    # prefetch_factor = 12,\n",
    "    # persistent_workers = False,\n",
    "    pin_memory = True\n",
    ")\n",
    "\n",
    "\n",
    "\n",
    "##### TEST #####\n",
    "df_test = WindowedIterableDataset(\n",
    "    dataset_path = dataset_path_test,\n",
    "    stats = stats,\n",
    "    input_features = input_features,\n",
    "    label_features = label_features,\n",
    "    num_single_sample_timesteps = num_single_sample_timesteps,\n",
    "    stride = window_stride,\n",
    "    input_window_length = input_window_length,\n",
    "    label_window_length = label_window_length\n",
    ")\n",
    "\n",
    "data_loader_test = DataLoader(\n",
    "    df_test,\n",
    "    batch_size = batch_size,\n",
    "    # num_workers = 0,\n",
    "    # prefetch_factor = 12,\n",
    "    # persistent_workers = False,\n",
    "    pin_memory = True\n",
    ")"
   ]
  },
  {
   "cell_type": "code",
   "execution_count": 5,
   "id": "4cfc6517",
   "metadata": {},
   "outputs": [
    {
     "name": "stdout",
     "output_type": "stream",
     "text": [
      "Number of trainable parameters in the model: 1170821\n",
      "\n"
     ]
    },
    {
     "name": "stderr",
     "output_type": "stream",
     "text": [
      "Epoch 1/25: 717it [00:58, 12.27it/s, train_loss=0.027629]\n"
     ]
    },
    {
     "name": "stdout",
     "output_type": "stream",
     "text": [
      "Epoch [1/25], Train Loss: 0.093862, Train R2: 0.925757\n",
      "\n",
      "Worst 5 Time-Steps Train R2:\n",
      "    Time-step 1: R2 = 0.765699\n",
      "    Time-step 2: R2 = 0.903209\n",
      "    Time-step 3: R2 = 0.914805\n",
      "    Time-step 4: R2 = 0.921560\n",
      "    Time-step 50: R2 = 0.923938\n",
      "Best 5 Time-Steps Train R2:\n",
      "    Time-step 12: R2 = 0.932903\n",
      "    Time-step 11: R2 = 0.932694\n",
      "    Time-step 13: R2 = 0.932450\n",
      "    Time-step 19: R2 = 0.932355\n",
      "    Time-step 23: R2 = 0.932207\n",
      "\n"
     ]
    },
    {
     "name": "stderr",
     "output_type": "stream",
     "text": [
      "Epoch 1/25: 207it [00:31,  6.51it/s, val_loss=0.485984]\n"
     ]
    },
    {
     "name": "stdout",
     "output_type": "stream",
     "text": [
      "Epoch [1/25], Val Loss: 0.713631, Val R2: 0.447250\n",
      "\n",
      "Worst 5 Time-Steps Val R2:\n",
      "    Time-step 50: R2 = -0.036928\n",
      "    Time-step 49: R2 = -0.022823\n",
      "    Time-step 48: R2 = -0.012121\n",
      "    Time-step 47: R2 = -0.001138\n",
      "    Time-step 46: R2 = 0.012309\n",
      "Best 5 Time-Steps Val R2:\n",
      "    Time-step 1: R2 = 0.971244\n",
      "    Time-step 2: R2 = 0.957100\n",
      "    Time-step 3: R2 = 0.941425\n",
      "    Time-step 4: R2 = 0.926338\n",
      "    Time-step 5: R2 = 0.910963\n",
      "\n",
      "-----------------------------------------------------------------\n",
      "\n"
     ]
    },
    {
     "name": "stderr",
     "output_type": "stream",
     "text": [
      "Epoch 2/25: 717it [00:58, 12.16it/s, train_loss=0.021700]\n"
     ]
    },
    {
     "name": "stdout",
     "output_type": "stream",
     "text": [
      "Epoch [2/25], Train Loss: 0.034648, Train R2: 0.972413\n",
      "\n",
      "Worst 5 Time-Steps Train R2:\n",
      "    Time-step 1: R2 = 0.919086\n",
      "    Time-step 2: R2 = 0.961193\n",
      "    Time-step 3: R2 = 0.967784\n",
      "    Time-step 4: R2 = 0.970890\n",
      "    Time-step 5: R2 = 0.972310\n",
      "Best 5 Time-Steps Train R2:\n",
      "    Time-step 24: R2 = 0.974597\n",
      "    Time-step 22: R2 = 0.974479\n",
      "    Time-step 20: R2 = 0.974460\n",
      "    Time-step 23: R2 = 0.974446\n",
      "    Time-step 28: R2 = 0.974438\n",
      "\n"
     ]
    },
    {
     "name": "stderr",
     "output_type": "stream",
     "text": [
      "Epoch 2/25: 207it [00:32,  6.44it/s, val_loss=0.415417]\n"
     ]
    },
    {
     "name": "stdout",
     "output_type": "stream",
     "text": [
      "Epoch [2/25], Val Loss: 0.734170, Val R2: 0.443822\n",
      "\n",
      "Worst 5 Time-Steps Val R2:\n",
      "    Time-step 50: R2 = -0.069949\n",
      "    Time-step 49: R2 = -0.059003\n",
      "    Time-step 48: R2 = -0.052392\n",
      "    Time-step 47: R2 = -0.044389\n",
      "    Time-step 46: R2 = -0.032278\n",
      "Best 5 Time-Steps Val R2:\n",
      "    Time-step 1: R2 = 0.973612\n",
      "    Time-step 2: R2 = 0.961176\n",
      "    Time-step 3: R2 = 0.947582\n",
      "    Time-step 4: R2 = 0.934089\n",
      "    Time-step 5: R2 = 0.920053\n",
      "\n",
      "-----------------------------------------------------------------\n",
      "\n"
     ]
    },
    {
     "name": "stderr",
     "output_type": "stream",
     "text": [
      "Epoch 3/25: 717it [00:58, 12.16it/s, train_loss=0.019544]\n"
     ]
    },
    {
     "name": "stdout",
     "output_type": "stream",
     "text": [
      "Epoch [3/25], Train Loss: 0.029898, Train R2: 0.976136\n",
      "\n",
      "Worst 5 Time-Steps Train R2:\n",
      "    Time-step 1: R2 = 0.935641\n",
      "    Time-step 2: R2 = 0.967159\n",
      "    Time-step 3: R2 = 0.972590\n",
      "    Time-step 4: R2 = 0.975028\n",
      "    Time-step 5: R2 = 0.976003\n",
      "Best 5 Time-Steps Train R2:\n",
      "    Time-step 23: R2 = 0.977727\n",
      "    Time-step 22: R2 = 0.977715\n",
      "    Time-step 27: R2 = 0.977710\n",
      "    Time-step 21: R2 = 0.977707\n",
      "    Time-step 24: R2 = 0.977693\n",
      "\n"
     ]
    },
    {
     "name": "stderr",
     "output_type": "stream",
     "text": [
      "Epoch 3/25: 207it [00:31,  6.49it/s, val_loss=0.360483]\n"
     ]
    },
    {
     "name": "stdout",
     "output_type": "stream",
     "text": [
      "Epoch [3/25], Val Loss: 0.597514, Val R2: 0.532184\n",
      "\n",
      "Worst 5 Time-Steps Val R2:\n",
      "    Time-step 50: R2 = 0.096172\n",
      "    Time-step 49: R2 = 0.110576\n",
      "    Time-step 48: R2 = 0.120243\n",
      "    Time-step 47: R2 = 0.130869\n",
      "    Time-step 46: R2 = 0.143783\n",
      "Best 5 Time-Steps Val R2:\n",
      "    Time-step 1: R2 = 0.980342\n",
      "    Time-step 2: R2 = 0.969196\n",
      "    Time-step 3: R2 = 0.957833\n",
      "    Time-step 4: R2 = 0.946152\n",
      "    Time-step 5: R2 = 0.933850\n",
      "\n",
      "-----------------------------------------------------------------\n",
      "\n"
     ]
    },
    {
     "name": "stderr",
     "output_type": "stream",
     "text": [
      "Epoch 4/25: 717it [00:58, 12.17it/s, train_loss=0.018384]\n"
     ]
    },
    {
     "name": "stdout",
     "output_type": "stream",
     "text": [
      "Epoch [4/25], Train Loss: 0.027577, Train R2: 0.977961\n",
      "\n",
      "Worst 5 Time-Steps Train R2:\n",
      "    Time-step 1: R2 = 0.944457\n",
      "    Time-step 2: R2 = 0.970181\n",
      "    Time-step 3: R2 = 0.974977\n",
      "    Time-step 4: R2 = 0.976915\n",
      "    Time-step 5: R2 = 0.977811\n",
      "Best 5 Time-Steps Train R2:\n",
      "    Time-step 24: R2 = 0.979300\n",
      "    Time-step 28: R2 = 0.979297\n",
      "    Time-step 23: R2 = 0.979276\n",
      "    Time-step 22: R2 = 0.979246\n",
      "    Time-step 26: R2 = 0.979218\n",
      "\n"
     ]
    },
    {
     "name": "stderr",
     "output_type": "stream",
     "text": [
      "Epoch 4/25: 207it [00:31,  6.50it/s, val_loss=0.284091]\n"
     ]
    },
    {
     "name": "stdout",
     "output_type": "stream",
     "text": [
      "Epoch [4/25], Val Loss: 0.583489, Val R2: 0.556228\n",
      "\n",
      "Worst 5 Time-Steps Val R2:\n",
      "    Time-step 50: R2 = 0.114976\n",
      "    Time-step 49: R2 = 0.128529\n",
      "    Time-step 48: R2 = 0.139056\n",
      "    Time-step 47: R2 = 0.150873\n",
      "    Time-step 46: R2 = 0.164996\n",
      "Best 5 Time-Steps Val R2:\n",
      "    Time-step 1: R2 = 0.980481\n",
      "    Time-step 2: R2 = 0.970416\n",
      "    Time-step 3: R2 = 0.959408\n",
      "    Time-step 4: R2 = 0.947941\n",
      "    Time-step 5: R2 = 0.936270\n",
      "\n",
      "-----------------------------------------------------------------\n",
      "\n"
     ]
    },
    {
     "name": "stderr",
     "output_type": "stream",
     "text": [
      "Epoch 5/25: 717it [00:58, 12.20it/s, train_loss=0.017277]\n"
     ]
    },
    {
     "name": "stdout",
     "output_type": "stream",
     "text": [
      "Epoch [5/25], Train Loss: 0.025976, Train R2: 0.979209\n",
      "\n",
      "Worst 5 Time-Steps Train R2:\n",
      "    Time-step 1: R2 = 0.950058\n",
      "    Time-step 2: R2 = 0.972220\n",
      "    Time-step 3: R2 = 0.976461\n",
      "    Time-step 4: R2 = 0.978359\n",
      "    Time-step 5: R2 = 0.978940\n",
      "Best 5 Time-Steps Train R2:\n",
      "    Time-step 24: R2 = 0.980452\n",
      "    Time-step 27: R2 = 0.980411\n",
      "    Time-step 32: R2 = 0.980351\n",
      "    Time-step 26: R2 = 0.980337\n",
      "    Time-step 21: R2 = 0.980336\n",
      "\n"
     ]
    },
    {
     "name": "stderr",
     "output_type": "stream",
     "text": [
      "Epoch 5/25: 207it [00:31,  6.48it/s, val_loss=0.392501]\n"
     ]
    },
    {
     "name": "stdout",
     "output_type": "stream",
     "text": [
      "Epoch [5/25], Val Loss: 0.602018, Val R2: 0.540415\n",
      "\n",
      "Worst 5 Time-Steps Val R2:\n",
      "    Time-step 50: R2 = 0.096140\n",
      "    Time-step 49: R2 = 0.107595\n",
      "    Time-step 48: R2 = 0.116774\n",
      "    Time-step 47: R2 = 0.127135\n",
      "    Time-step 46: R2 = 0.139774\n",
      "Best 5 Time-Steps Val R2:\n",
      "    Time-step 1: R2 = 0.982040\n",
      "    Time-step 2: R2 = 0.971733\n",
      "    Time-step 3: R2 = 0.960498\n",
      "    Time-step 4: R2 = 0.948720\n",
      "    Time-step 5: R2 = 0.936567\n",
      "\n",
      "-----------------------------------------------------------------\n",
      "\n"
     ]
    },
    {
     "name": "stderr",
     "output_type": "stream",
     "text": [
      "Epoch 6/25: 717it [00:59, 12.10it/s, train_loss=0.017961]\n"
     ]
    },
    {
     "name": "stdout",
     "output_type": "stream",
     "text": [
      "Epoch [6/25], Train Loss: 0.025069, Train R2: 0.979942\n",
      "\n",
      "Worst 5 Time-Steps Train R2:\n",
      "    Time-step 1: R2 = 0.954070\n",
      "    Time-step 2: R2 = 0.973591\n",
      "    Time-step 3: R2 = 0.977454\n",
      "    Time-step 4: R2 = 0.979099\n",
      "    Time-step 5: R2 = 0.979635\n",
      "Best 5 Time-Steps Train R2:\n",
      "    Time-step 24: R2 = 0.981029\n",
      "    Time-step 23: R2 = 0.981016\n",
      "    Time-step 21: R2 = 0.980990\n",
      "    Time-step 20: R2 = 0.980984\n",
      "    Time-step 26: R2 = 0.980960\n",
      "\n"
     ]
    },
    {
     "name": "stderr",
     "output_type": "stream",
     "text": [
      "Epoch 6/25: 207it [00:31,  6.51it/s, val_loss=0.265037]\n"
     ]
    },
    {
     "name": "stdout",
     "output_type": "stream",
     "text": [
      "Epoch [6/25], Val Loss: 0.513192, Val R2: 0.602605\n",
      "\n",
      "Worst 5 Time-Steps Val R2:\n",
      "    Time-step 50: R2 = 0.223762\n",
      "    Time-step 49: R2 = 0.237963\n",
      "    Time-step 48: R2 = 0.249810\n",
      "    Time-step 47: R2 = 0.261991\n",
      "    Time-step 46: R2 = 0.275260\n",
      "Best 5 Time-Steps Val R2:\n",
      "    Time-step 1: R2 = 0.984210\n",
      "    Time-step 2: R2 = 0.973932\n",
      "    Time-step 3: R2 = 0.963639\n",
      "    Time-step 4: R2 = 0.952946\n",
      "    Time-step 5: R2 = 0.941815\n",
      "\n",
      "-----------------------------------------------------------------\n",
      "\n"
     ]
    },
    {
     "name": "stderr",
     "output_type": "stream",
     "text": [
      "Epoch 7/25: 717it [00:59, 12.12it/s, train_loss=0.017761]\n"
     ]
    },
    {
     "name": "stdout",
     "output_type": "stream",
     "text": [
      "Epoch [7/25], Train Loss: 0.024460, Train R2: 0.980421\n",
      "\n",
      "Worst 5 Time-Steps Train R2:\n",
      "    Time-step 1: R2 = 0.956905\n",
      "    Time-step 2: R2 = 0.974548\n",
      "    Time-step 3: R2 = 0.978136\n",
      "    Time-step 4: R2 = 0.979602\n",
      "    Time-step 5: R2 = 0.980252\n",
      "Best 5 Time-Steps Train R2:\n",
      "    Time-step 23: R2 = 0.981404\n",
      "    Time-step 33: R2 = 0.981372\n",
      "    Time-step 17: R2 = 0.981364\n",
      "    Time-step 22: R2 = 0.981347\n",
      "    Time-step 29: R2 = 0.981341\n",
      "\n"
     ]
    },
    {
     "name": "stderr",
     "output_type": "stream",
     "text": [
      "Epoch 7/25: 207it [00:32,  6.46it/s, val_loss=0.277040]\n"
     ]
    },
    {
     "name": "stdout",
     "output_type": "stream",
     "text": [
      "Epoch [7/25], Val Loss: 0.466654, Val R2: 0.643345\n",
      "\n",
      "Worst 5 Time-Steps Val R2:\n",
      "    Time-step 50: R2 = 0.270116\n",
      "    Time-step 49: R2 = 0.284014\n",
      "    Time-step 48: R2 = 0.295868\n",
      "    Time-step 47: R2 = 0.308470\n",
      "    Time-step 46: R2 = 0.322254\n",
      "Best 5 Time-Steps Val R2:\n",
      "    Time-step 1: R2 = 0.985257\n",
      "    Time-step 2: R2 = 0.976256\n",
      "    Time-step 3: R2 = 0.966996\n",
      "    Time-step 4: R2 = 0.957378\n",
      "    Time-step 5: R2 = 0.947701\n",
      "\n",
      "-----------------------------------------------------------------\n",
      "\n"
     ]
    },
    {
     "name": "stderr",
     "output_type": "stream",
     "text": [
      "Epoch 8/25: 717it [00:58, 12.17it/s, train_loss=0.016001]\n"
     ]
    },
    {
     "name": "stdout",
     "output_type": "stream",
     "text": [
      "Epoch [8/25], Train Loss: 0.023656, Train R2: 0.981022\n",
      "\n",
      "Worst 5 Time-Steps Train R2:\n",
      "    Time-step 1: R2 = 0.959814\n",
      "    Time-step 2: R2 = 0.975724\n",
      "    Time-step 3: R2 = 0.978876\n",
      "    Time-step 4: R2 = 0.980255\n",
      "    Time-step 5: R2 = 0.980715\n",
      "Best 5 Time-Steps Train R2:\n",
      "    Time-step 24: R2 = 0.981968\n",
      "    Time-step 20: R2 = 0.981921\n",
      "    Time-step 26: R2 = 0.981877\n",
      "    Time-step 23: R2 = 0.981877\n",
      "    Time-step 21: R2 = 0.981864\n",
      "\n"
     ]
    },
    {
     "name": "stderr",
     "output_type": "stream",
     "text": [
      "Epoch 8/25: 207it [00:31,  6.51it/s, val_loss=0.278925]\n"
     ]
    },
    {
     "name": "stdout",
     "output_type": "stream",
     "text": [
      "Epoch [8/25], Val Loss: 0.472394, Val R2: 0.637184\n",
      "\n",
      "Worst 5 Time-Steps Val R2:\n",
      "    Time-step 50: R2 = 0.269869\n",
      "    Time-step 49: R2 = 0.282913\n",
      "    Time-step 48: R2 = 0.294428\n",
      "    Time-step 47: R2 = 0.306841\n",
      "    Time-step 46: R2 = 0.320254\n",
      "Best 5 Time-Steps Val R2:\n",
      "    Time-step 1: R2 = 0.985177\n",
      "    Time-step 2: R2 = 0.975778\n",
      "    Time-step 3: R2 = 0.966195\n",
      "    Time-step 4: R2 = 0.956134\n",
      "    Time-step 5: R2 = 0.945866\n",
      "\n",
      "-----------------------------------------------------------------\n",
      "\n"
     ]
    },
    {
     "name": "stderr",
     "output_type": "stream",
     "text": [
      "Epoch 9/25: 717it [00:58, 12.22it/s, train_loss=0.015916]\n"
     ]
    },
    {
     "name": "stdout",
     "output_type": "stream",
     "text": [
      "Epoch [9/25], Train Loss: 0.023242, Train R2: 0.981369\n",
      "\n",
      "Worst 5 Time-Steps Train R2:\n",
      "    Time-step 1: R2 = 0.961656\n",
      "    Time-step 2: R2 = 0.976412\n",
      "    Time-step 3: R2 = 0.979456\n",
      "    Time-step 4: R2 = 0.980581\n",
      "    Time-step 5: R2 = 0.981129\n",
      "Best 5 Time-Steps Train R2:\n",
      "    Time-step 21: R2 = 0.982212\n",
      "    Time-step 33: R2 = 0.982201\n",
      "    Time-step 27: R2 = 0.982196\n",
      "    Time-step 31: R2 = 0.982188\n",
      "    Time-step 17: R2 = 0.982181\n",
      "\n"
     ]
    },
    {
     "name": "stderr",
     "output_type": "stream",
     "text": [
      "Epoch 9/25: 207it [00:32,  6.45it/s, val_loss=0.385869]\n"
     ]
    },
    {
     "name": "stdout",
     "output_type": "stream",
     "text": [
      "Epoch [9/25], Val Loss: 0.552885, Val R2: 0.574262\n",
      "\n",
      "Worst 5 Time-Steps Val R2:\n",
      "    Time-step 50: R2 = 0.142194\n",
      "    Time-step 49: R2 = 0.155727\n",
      "    Time-step 48: R2 = 0.167006\n",
      "    Time-step 47: R2 = 0.179264\n",
      "    Time-step 46: R2 = 0.193151\n",
      "Best 5 Time-Steps Val R2:\n",
      "    Time-step 1: R2 = 0.983342\n",
      "    Time-step 2: R2 = 0.973830\n",
      "    Time-step 3: R2 = 0.963078\n",
      "    Time-step 4: R2 = 0.951474\n",
      "    Time-step 5: R2 = 0.939735\n",
      "\n",
      "-----------------------------------------------------------------\n",
      "\n"
     ]
    },
    {
     "name": "stderr",
     "output_type": "stream",
     "text": [
      "Epoch 10/25: 717it [00:59, 12.10it/s, train_loss=0.016199]\n"
     ]
    },
    {
     "name": "stdout",
     "output_type": "stream",
     "text": [
      "Epoch [10/25], Train Loss: 0.022809, Train R2: 0.981701\n",
      "\n",
      "Worst 5 Time-Steps Train R2:\n",
      "    Time-step 1: R2 = 0.963552\n",
      "    Time-step 2: R2 = 0.977148\n",
      "    Time-step 3: R2 = 0.979871\n",
      "    Time-step 4: R2 = 0.980975\n",
      "    Time-step 5: R2 = 0.981439\n",
      "Best 5 Time-Steps Train R2:\n",
      "    Time-step 31: R2 = 0.982490\n",
      "    Time-step 34: R2 = 0.982457\n",
      "    Time-step 20: R2 = 0.982456\n",
      "    Time-step 21: R2 = 0.982455\n",
      "    Time-step 33: R2 = 0.982409\n",
      "\n"
     ]
    },
    {
     "name": "stderr",
     "output_type": "stream",
     "text": [
      "Epoch 10/25: 207it [00:31,  6.48it/s, val_loss=0.506657]\n"
     ]
    },
    {
     "name": "stdout",
     "output_type": "stream",
     "text": [
      "Epoch [10/25], Val Loss: 0.563526, Val R2: 0.570961\n",
      "\n",
      "Worst 5 Time-Steps Val R2:\n",
      "    Time-step 50: R2 = 0.124003\n",
      "    Time-step 49: R2 = 0.137966\n",
      "    Time-step 48: R2 = 0.150073\n",
      "    Time-step 47: R2 = 0.163199\n",
      "    Time-step 46: R2 = 0.178365\n",
      "Best 5 Time-Steps Val R2:\n",
      "    Time-step 1: R2 = 0.983267\n",
      "    Time-step 2: R2 = 0.973465\n",
      "    Time-step 3: R2 = 0.962380\n",
      "    Time-step 4: R2 = 0.949978\n",
      "    Time-step 5: R2 = 0.937285\n",
      "\n",
      "-----------------------------------------------------------------\n",
      "\n"
     ]
    },
    {
     "name": "stderr",
     "output_type": "stream",
     "text": [
      "Epoch 11/25: 717it [00:58, 12.19it/s, train_loss=0.015360]\n"
     ]
    },
    {
     "name": "stdout",
     "output_type": "stream",
     "text": [
      "Epoch [11/25], Train Loss: 0.022519, Train R2: 0.981932\n",
      "\n",
      "Worst 5 Time-Steps Train R2:\n",
      "    Time-step 1: R2 = 0.965160\n",
      "    Time-step 2: R2 = 0.977666\n",
      "    Time-step 3: R2 = 0.980200\n",
      "    Time-step 4: R2 = 0.981228\n",
      "    Time-step 5: R2 = 0.981558\n",
      "Best 5 Time-Steps Train R2:\n",
      "    Time-step 17: R2 = 0.982640\n",
      "    Time-step 21: R2 = 0.982636\n",
      "    Time-step 24: R2 = 0.982629\n",
      "    Time-step 33: R2 = 0.982614\n",
      "    Time-step 31: R2 = 0.982592\n",
      "\n"
     ]
    },
    {
     "name": "stderr",
     "output_type": "stream",
     "text": [
      "Epoch 11/25: 207it [00:32,  6.41it/s, val_loss=0.381449]\n"
     ]
    },
    {
     "name": "stdout",
     "output_type": "stream",
     "text": [
      "Epoch [11/25], Val Loss: 0.511218, Val R2: 0.609039\n",
      "\n",
      "Worst 5 Time-Steps Val R2:\n",
      "    Time-step 50: R2 = 0.189181\n",
      "    Time-step 49: R2 = 0.204381\n",
      "    Time-step 48: R2 = 0.216753\n",
      "    Time-step 47: R2 = 0.230505\n",
      "    Time-step 46: R2 = 0.245987\n",
      "Best 5 Time-Steps Val R2:\n",
      "    Time-step 1: R2 = 0.984532\n",
      "    Time-step 2: R2 = 0.975226\n",
      "    Time-step 3: R2 = 0.965124\n",
      "    Time-step 4: R2 = 0.954050\n",
      "    Time-step 5: R2 = 0.942926\n",
      "\n",
      "-----------------------------------------------------------------\n",
      "\n"
     ]
    },
    {
     "name": "stderr",
     "output_type": "stream",
     "text": [
      "Epoch 12/25: 717it [00:58, 12.16it/s, train_loss=0.015427]\n"
     ]
    },
    {
     "name": "stdout",
     "output_type": "stream",
     "text": [
      "Epoch [12/25], Train Loss: 0.022162, Train R2: 0.982200\n",
      "\n",
      "Worst 5 Time-Steps Train R2:\n",
      "    Time-step 1: R2 = 0.966361\n",
      "    Time-step 2: R2 = 0.978141\n",
      "    Time-step 3: R2 = 0.980555\n",
      "    Time-step 4: R2 = 0.981487\n",
      "    Time-step 5: R2 = 0.981858\n",
      "Best 5 Time-Steps Train R2:\n",
      "    Time-step 26: R2 = 0.982933\n",
      "    Time-step 34: R2 = 0.982868\n",
      "    Time-step 13: R2 = 0.982864\n",
      "    Time-step 24: R2 = 0.982863\n",
      "    Time-step 27: R2 = 0.982855\n",
      "\n"
     ]
    },
    {
     "name": "stderr",
     "output_type": "stream",
     "text": [
      "Epoch 12/25: 207it [00:32,  6.45it/s, val_loss=0.428535]\n"
     ]
    },
    {
     "name": "stdout",
     "output_type": "stream",
     "text": [
      "Epoch [12/25], Val Loss: 0.508513, Val R2: 0.610523\n",
      "\n",
      "Worst 5 Time-Steps Val R2:\n",
      "    Time-step 50: R2 = 0.167912\n",
      "    Time-step 49: R2 = 0.186473\n",
      "    Time-step 48: R2 = 0.202458\n",
      "    Time-step 47: R2 = 0.219693\n",
      "    Time-step 46: R2 = 0.238010\n",
      "Best 5 Time-Steps Val R2:\n",
      "    Time-step 1: R2 = 0.986031\n",
      "    Time-step 2: R2 = 0.976856\n",
      "    Time-step 3: R2 = 0.967230\n",
      "    Time-step 4: R2 = 0.956655\n",
      "    Time-step 5: R2 = 0.945881\n",
      "\n",
      "-----------------------------------------------------------------\n",
      "\n"
     ]
    },
    {
     "name": "stderr",
     "output_type": "stream",
     "text": [
      "Epoch 13/25: 717it [00:59, 12.13it/s, train_loss=0.014850]\n"
     ]
    },
    {
     "name": "stdout",
     "output_type": "stream",
     "text": [
      "Epoch [13/25], Train Loss: 0.021882, Train R2: 0.982415\n",
      "\n",
      "Worst 5 Time-Steps Train R2:\n",
      "    Time-step 1: R2 = 0.967577\n",
      "    Time-step 2: R2 = 0.978673\n",
      "    Time-step 3: R2 = 0.980834\n",
      "    Time-step 4: R2 = 0.981678\n",
      "    Time-step 5: R2 = 0.982061\n",
      "Best 5 Time-Steps Train R2:\n",
      "    Time-step 21: R2 = 0.983069\n",
      "    Time-step 34: R2 = 0.983036\n",
      "    Time-step 20: R2 = 0.983034\n",
      "    Time-step 23: R2 = 0.983024\n",
      "    Time-step 31: R2 = 0.983023\n",
      "\n"
     ]
    },
    {
     "name": "stderr",
     "output_type": "stream",
     "text": [
      "Epoch 13/25: 207it [00:32,  6.44it/s, val_loss=0.309679]\n"
     ]
    },
    {
     "name": "stdout",
     "output_type": "stream",
     "text": [
      "Epoch [13/25], Val Loss: 0.484407, Val R2: 0.625281\n",
      "\n",
      "Worst 5 Time-Steps Val R2:\n",
      "    Time-step 50: R2 = 0.249590\n",
      "    Time-step 49: R2 = 0.262409\n",
      "    Time-step 48: R2 = 0.274075\n",
      "    Time-step 47: R2 = 0.286489\n",
      "    Time-step 46: R2 = 0.299809\n",
      "Best 5 Time-Steps Val R2:\n",
      "    Time-step 1: R2 = 0.983562\n",
      "    Time-step 2: R2 = 0.974344\n",
      "    Time-step 3: R2 = 0.964419\n",
      "    Time-step 4: R2 = 0.953721\n",
      "    Time-step 5: R2 = 0.942992\n",
      "\n",
      "-----------------------------------------------------------------\n",
      "\n"
     ]
    },
    {
     "name": "stderr",
     "output_type": "stream",
     "text": [
      "Epoch 14/25: 717it [00:59, 12.13it/s, train_loss=0.015222]\n"
     ]
    },
    {
     "name": "stdout",
     "output_type": "stream",
     "text": [
      "Epoch [14/25], Train Loss: 0.021699, Train R2: 0.982564\n",
      "\n",
      "Worst 5 Time-Steps Train R2:\n",
      "    Time-step 1: R2 = 0.968334\n",
      "    Time-step 2: R2 = 0.978902\n",
      "    Time-step 3: R2 = 0.980983\n",
      "    Time-step 4: R2 = 0.981861\n",
      "    Time-step 5: R2 = 0.982280\n",
      "Best 5 Time-Steps Train R2:\n",
      "    Time-step 20: R2 = 0.983226\n",
      "    Time-step 31: R2 = 0.983208\n",
      "    Time-step 24: R2 = 0.983205\n",
      "    Time-step 17: R2 = 0.983203\n",
      "    Time-step 21: R2 = 0.983203\n",
      "\n"
     ]
    },
    {
     "name": "stderr",
     "output_type": "stream",
     "text": [
      "Epoch 14/25: 207it [00:31,  6.47it/s, val_loss=0.296772]\n"
     ]
    },
    {
     "name": "stdout",
     "output_type": "stream",
     "text": [
      "Epoch [14/25], Val Loss: 0.492749, Val R2: 0.623959\n",
      "\n",
      "Worst 5 Time-Steps Val R2:\n",
      "    Time-step 50: R2 = 0.233213\n",
      "    Time-step 49: R2 = 0.245779\n",
      "    Time-step 48: R2 = 0.257451\n",
      "    Time-step 47: R2 = 0.270013\n",
      "    Time-step 46: R2 = 0.283848\n",
      "Best 5 Time-Steps Val R2:\n",
      "    Time-step 1: R2 = 0.986598\n",
      "    Time-step 2: R2 = 0.977605\n",
      "    Time-step 3: R2 = 0.968197\n",
      "    Time-step 4: R2 = 0.957981\n",
      "    Time-step 5: R2 = 0.947785\n",
      "\n",
      "-----------------------------------------------------------------\n",
      "\n"
     ]
    },
    {
     "name": "stderr",
     "output_type": "stream",
     "text": [
      "Epoch 15/25: 717it [00:59, 12.04it/s, train_loss=0.014698]\n"
     ]
    },
    {
     "name": "stdout",
     "output_type": "stream",
     "text": [
      "Epoch [15/25], Train Loss: 0.021476, Train R2: 0.982745\n",
      "\n",
      "Worst 5 Time-Steps Train R2:\n",
      "    Time-step 1: R2 = 0.969326\n",
      "    Time-step 2: R2 = 0.979294\n",
      "    Time-step 3: R2 = 0.981247\n",
      "    Time-step 4: R2 = 0.982114\n",
      "    Time-step 5: R2 = 0.982426\n",
      "Best 5 Time-Steps Train R2:\n",
      "    Time-step 21: R2 = 0.983356\n",
      "    Time-step 24: R2 = 0.983347\n",
      "    Time-step 34: R2 = 0.983324\n",
      "    Time-step 17: R2 = 0.983320\n",
      "    Time-step 31: R2 = 0.983318\n",
      "\n"
     ]
    },
    {
     "name": "stderr",
     "output_type": "stream",
     "text": [
      "Epoch 15/25: 207it [00:31,  6.49it/s, val_loss=0.255827]\n"
     ]
    },
    {
     "name": "stdout",
     "output_type": "stream",
     "text": [
      "Epoch [15/25], Val Loss: 0.483932, Val R2: 0.631288\n",
      "\n",
      "Worst 5 Time-Steps Val R2:\n",
      "    Time-step 50: R2 = 0.255818\n",
      "    Time-step 49: R2 = 0.267923\n",
      "    Time-step 48: R2 = 0.279157\n",
      "    Time-step 47: R2 = 0.291112\n",
      "    Time-step 46: R2 = 0.304234\n",
      "Best 5 Time-Steps Val R2:\n",
      "    Time-step 1: R2 = 0.986068\n",
      "    Time-step 2: R2 = 0.977073\n",
      "    Time-step 3: R2 = 0.967616\n",
      "    Time-step 4: R2 = 0.957512\n",
      "    Time-step 5: R2 = 0.947474\n",
      "\n",
      "-----------------------------------------------------------------\n",
      "\n"
     ]
    },
    {
     "name": "stderr",
     "output_type": "stream",
     "text": [
      "Epoch 16/25: 717it [00:59, 11.98it/s, train_loss=0.014505]\n"
     ]
    },
    {
     "name": "stdout",
     "output_type": "stream",
     "text": [
      "Epoch [16/25], Train Loss: 0.021353, Train R2: 0.982842\n",
      "\n",
      "Worst 5 Time-Steps Train R2:\n",
      "    Time-step 1: R2 = 0.970080\n",
      "    Time-step 2: R2 = 0.979544\n",
      "    Time-step 3: R2 = 0.981496\n",
      "    Time-step 4: R2 = 0.982174\n",
      "    Time-step 5: R2 = 0.982432\n",
      "Best 5 Time-Steps Train R2:\n",
      "    Time-step 23: R2 = 0.983431\n",
      "    Time-step 33: R2 = 0.983409\n",
      "    Time-step 31: R2 = 0.983409\n",
      "    Time-step 34: R2 = 0.983389\n",
      "    Time-step 21: R2 = 0.983385\n",
      "\n"
     ]
    },
    {
     "name": "stderr",
     "output_type": "stream",
     "text": [
      "Epoch 16/25: 207it [00:32,  6.45it/s, val_loss=0.292389]\n"
     ]
    },
    {
     "name": "stdout",
     "output_type": "stream",
     "text": [
      "Epoch [16/25], Val Loss: 0.475223, Val R2: 0.638584\n",
      "\n",
      "Worst 5 Time-Steps Val R2:\n",
      "    Time-step 50: R2 = 0.258201\n",
      "    Time-step 49: R2 = 0.271233\n",
      "    Time-step 48: R2 = 0.283487\n",
      "    Time-step 47: R2 = 0.296821\n",
      "    Time-step 46: R2 = 0.311059\n",
      "Best 5 Time-Steps Val R2:\n",
      "    Time-step 1: R2 = 0.986832\n",
      "    Time-step 2: R2 = 0.977893\n",
      "    Time-step 3: R2 = 0.968436\n",
      "    Time-step 4: R2 = 0.958144\n",
      "    Time-step 5: R2 = 0.948058\n",
      "\n",
      "-----------------------------------------------------------------\n",
      "\n"
     ]
    },
    {
     "name": "stderr",
     "output_type": "stream",
     "text": [
      "Epoch 17/25: 717it [00:56, 12.61it/s, train_loss=0.014201]\n"
     ]
    },
    {
     "name": "stdout",
     "output_type": "stream",
     "text": [
      "Epoch [17/25], Train Loss: 0.021157, Train R2: 0.982991\n",
      "\n",
      "Worst 5 Time-Steps Train R2:\n",
      "    Time-step 1: R2 = 0.970944\n",
      "    Time-step 2: R2 = 0.979745\n",
      "    Time-step 3: R2 = 0.981608\n",
      "    Time-step 4: R2 = 0.982318\n",
      "    Time-step 5: R2 = 0.982628\n",
      "Best 5 Time-Steps Train R2:\n",
      "    Time-step 24: R2 = 0.983597\n",
      "    Time-step 34: R2 = 0.983539\n",
      "    Time-step 31: R2 = 0.983525\n",
      "    Time-step 27: R2 = 0.983522\n",
      "    Time-step 17: R2 = 0.983509\n",
      "\n"
     ]
    },
    {
     "name": "stderr",
     "output_type": "stream",
     "text": [
      "Epoch 17/25: 207it [00:31,  6.58it/s, val_loss=0.281463]\n"
     ]
    },
    {
     "name": "stdout",
     "output_type": "stream",
     "text": [
      "Epoch [17/25], Val Loss: 0.448630, Val R2: 0.655344\n",
      "\n",
      "Worst 5 Time-Steps Val R2:\n",
      "    Time-step 50: R2 = 0.290442\n",
      "    Time-step 49: R2 = 0.303224\n",
      "    Time-step 48: R2 = 0.315220\n",
      "    Time-step 47: R2 = 0.327969\n",
      "    Time-step 46: R2 = 0.341561\n",
      "Best 5 Time-Steps Val R2:\n",
      "    Time-step 1: R2 = 0.987398\n",
      "    Time-step 2: R2 = 0.978821\n",
      "    Time-step 3: R2 = 0.969896\n",
      "    Time-step 4: R2 = 0.960193\n",
      "    Time-step 5: R2 = 0.950692\n",
      "\n",
      "-----------------------------------------------------------------\n",
      "\n"
     ]
    },
    {
     "name": "stderr",
     "output_type": "stream",
     "text": [
      "Epoch 18/25: 717it [00:55, 12.85it/s, train_loss=0.014699]\n"
     ]
    },
    {
     "name": "stdout",
     "output_type": "stream",
     "text": [
      "Epoch [18/25], Train Loss: 0.020940, Train R2: 0.983159\n",
      "\n",
      "Worst 5 Time-Steps Train R2:\n",
      "    Time-step 1: R2 = 0.971512\n",
      "    Time-step 2: R2 = 0.980106\n",
      "    Time-step 3: R2 = 0.981795\n",
      "    Time-step 4: R2 = 0.982535\n",
      "    Time-step 5: R2 = 0.982826\n",
      "Best 5 Time-Steps Train R2:\n",
      "    Time-step 31: R2 = 0.983712\n",
      "    Time-step 17: R2 = 0.983704\n",
      "    Time-step 24: R2 = 0.983683\n",
      "    Time-step 21: R2 = 0.983679\n",
      "    Time-step 23: R2 = 0.983670\n",
      "\n"
     ]
    },
    {
     "name": "stderr",
     "output_type": "stream",
     "text": [
      "Epoch 18/25: 207it [00:31,  6.55it/s, val_loss=0.284625]\n"
     ]
    },
    {
     "name": "stdout",
     "output_type": "stream",
     "text": [
      "Epoch [18/25], Val Loss: 0.464732, Val R2: 0.642348\n",
      "\n",
      "Worst 5 Time-Steps Val R2:\n",
      "    Time-step 50: R2 = 0.268914\n",
      "    Time-step 49: R2 = 0.282654\n",
      "    Time-step 48: R2 = 0.294631\n",
      "    Time-step 47: R2 = 0.307448\n",
      "    Time-step 46: R2 = 0.321260\n",
      "Best 5 Time-Steps Val R2:\n",
      "    Time-step 1: R2 = 0.987942\n",
      "    Time-step 2: R2 = 0.979456\n",
      "    Time-step 3: R2 = 0.970253\n",
      "    Time-step 4: R2 = 0.960224\n",
      "    Time-step 5: R2 = 0.950315\n",
      "\n",
      "-----------------------------------------------------------------\n",
      "\n"
     ]
    },
    {
     "name": "stderr",
     "output_type": "stream",
     "text": [
      "Epoch 19/25: 717it [00:55, 12.94it/s, train_loss=0.014132]\n"
     ]
    },
    {
     "name": "stdout",
     "output_type": "stream",
     "text": [
      "Epoch [19/25], Train Loss: 0.020838, Train R2: 0.983238\n",
      "\n",
      "Worst 5 Time-Steps Train R2:\n",
      "    Time-step 1: R2 = 0.972334\n",
      "    Time-step 2: R2 = 0.980257\n",
      "    Time-step 3: R2 = 0.981896\n",
      "    Time-step 4: R2 = 0.982609\n",
      "    Time-step 5: R2 = 0.982909\n",
      "Best 5 Time-Steps Train R2:\n",
      "    Time-step 21: R2 = 0.983780\n",
      "    Time-step 23: R2 = 0.983749\n",
      "    Time-step 20: R2 = 0.983718\n",
      "    Time-step 24: R2 = 0.983717\n",
      "    Time-step 34: R2 = 0.983716\n",
      "\n"
     ]
    },
    {
     "name": "stderr",
     "output_type": "stream",
     "text": [
      "Epoch 19/25: 207it [00:31,  6.48it/s, val_loss=0.298058]\n"
     ]
    },
    {
     "name": "stdout",
     "output_type": "stream",
     "text": [
      "Epoch [19/25], Val Loss: 0.482958, Val R2: 0.626333\n",
      "\n",
      "Worst 5 Time-Steps Val R2:\n",
      "    Time-step 50: R2 = 0.236967\n",
      "    Time-step 49: R2 = 0.249588\n",
      "    Time-step 48: R2 = 0.261584\n",
      "    Time-step 47: R2 = 0.274466\n",
      "    Time-step 46: R2 = 0.288152\n",
      "Best 5 Time-Steps Val R2:\n",
      "    Time-step 1: R2 = 0.987592\n",
      "    Time-step 2: R2 = 0.978856\n",
      "    Time-step 3: R2 = 0.969067\n",
      "    Time-step 4: R2 = 0.958676\n",
      "    Time-step 5: R2 = 0.948373\n",
      "\n",
      "-----------------------------------------------------------------\n",
      "\n"
     ]
    },
    {
     "name": "stderr",
     "output_type": "stream",
     "text": [
      "Epoch 20/25: 717it [00:56, 12.65it/s, train_loss=0.014450]\n"
     ]
    },
    {
     "name": "stdout",
     "output_type": "stream",
     "text": [
      "Epoch [20/25], Train Loss: 0.020713, Train R2: 0.983333\n",
      "\n",
      "Worst 5 Time-Steps Train R2:\n",
      "    Time-step 1: R2 = 0.972684\n",
      "    Time-step 2: R2 = 0.980483\n",
      "    Time-step 3: R2 = 0.982051\n",
      "    Time-step 4: R2 = 0.982637\n",
      "    Time-step 5: R2 = 0.982954\n",
      "Best 5 Time-Steps Train R2:\n",
      "    Time-step 31: R2 = 0.983891\n",
      "    Time-step 23: R2 = 0.983867\n",
      "    Time-step 34: R2 = 0.983856\n",
      "    Time-step 24: R2 = 0.983831\n",
      "    Time-step 17: R2 = 0.983818\n",
      "\n"
     ]
    },
    {
     "name": "stderr",
     "output_type": "stream",
     "text": [
      "Epoch 20/25: 207it [00:31,  6.50it/s, val_loss=0.309747]\n"
     ]
    },
    {
     "name": "stdout",
     "output_type": "stream",
     "text": [
      "Epoch [20/25], Val Loss: 0.452974, Val R2: 0.652587\n",
      "\n",
      "Worst 5 Time-Steps Val R2:\n",
      "    Time-step 50: R2 = 0.274787\n",
      "    Time-step 49: R2 = 0.290071\n",
      "    Time-step 48: R2 = 0.303207\n",
      "    Time-step 47: R2 = 0.316998\n",
      "    Time-step 46: R2 = 0.331932\n",
      "Best 5 Time-Steps Val R2:\n",
      "    Time-step 1: R2 = 0.986671\n",
      "    Time-step 2: R2 = 0.978323\n",
      "    Time-step 3: R2 = 0.969255\n",
      "    Time-step 4: R2 = 0.959750\n",
      "    Time-step 5: R2 = 0.950286\n",
      "\n",
      "-----------------------------------------------------------------\n",
      "\n"
     ]
    },
    {
     "name": "stderr",
     "output_type": "stream",
     "text": [
      "Epoch 21/25: 717it [00:55, 12.86it/s, train_loss=0.013970]\n"
     ]
    },
    {
     "name": "stdout",
     "output_type": "stream",
     "text": [
      "Epoch [21/25], Train Loss: 0.020595, Train R2: 0.983430\n",
      "\n",
      "Worst 5 Time-Steps Train R2:\n",
      "    Time-step 1: R2 = 0.973191\n",
      "    Time-step 2: R2 = 0.980619\n",
      "    Time-step 3: R2 = 0.982254\n",
      "    Time-step 4: R2 = 0.982822\n",
      "    Time-step 5: R2 = 0.983081\n",
      "Best 5 Time-Steps Train R2:\n",
      "    Time-step 31: R2 = 0.983934\n",
      "    Time-step 24: R2 = 0.983930\n",
      "    Time-step 23: R2 = 0.983929\n",
      "    Time-step 27: R2 = 0.983899\n",
      "    Time-step 26: R2 = 0.983872\n",
      "\n"
     ]
    },
    {
     "name": "stderr",
     "output_type": "stream",
     "text": [
      "Epoch 21/25: 207it [00:31,  6.52it/s, val_loss=0.300110]\n"
     ]
    },
    {
     "name": "stdout",
     "output_type": "stream",
     "text": [
      "Epoch [21/25], Val Loss: 0.444798, Val R2: 0.657327\n",
      "\n",
      "Worst 5 Time-Steps Val R2:\n",
      "    Time-step 50: R2 = 0.300543\n",
      "    Time-step 49: R2 = 0.313636\n",
      "    Time-step 48: R2 = 0.325620\n",
      "    Time-step 47: R2 = 0.338508\n",
      "    Time-step 46: R2 = 0.352123\n",
      "Best 5 Time-Steps Val R2:\n",
      "    Time-step 1: R2 = 0.988450\n",
      "    Time-step 2: R2 = 0.979590\n",
      "    Time-step 3: R2 = 0.970452\n",
      "    Time-step 4: R2 = 0.960786\n",
      "    Time-step 5: R2 = 0.951145\n",
      "\n",
      "-----------------------------------------------------------------\n",
      "\n"
     ]
    },
    {
     "name": "stderr",
     "output_type": "stream",
     "text": [
      "Epoch 22/25: 717it [00:57, 12.37it/s, train_loss=0.013542]\n"
     ]
    },
    {
     "name": "stdout",
     "output_type": "stream",
     "text": [
      "Epoch [22/25], Train Loss: 0.020531, Train R2: 0.983486\n",
      "\n",
      "Worst 5 Time-Steps Train R2:\n",
      "    Time-step 1: R2 = 0.973503\n",
      "    Time-step 2: R2 = 0.980727\n",
      "    Time-step 3: R2 = 0.982219\n",
      "    Time-step 4: R2 = 0.982868\n",
      "    Time-step 5: R2 = 0.983148\n",
      "Best 5 Time-Steps Train R2:\n",
      "    Time-step 24: R2 = 0.984003\n",
      "    Time-step 17: R2 = 0.983945\n",
      "    Time-step 21: R2 = 0.983939\n",
      "    Time-step 18: R2 = 0.983933\n",
      "    Time-step 23: R2 = 0.983925\n",
      "\n"
     ]
    },
    {
     "name": "stderr",
     "output_type": "stream",
     "text": [
      "Epoch 22/25: 207it [00:31,  6.59it/s, val_loss=0.299529]\n"
     ]
    },
    {
     "name": "stdout",
     "output_type": "stream",
     "text": [
      "Epoch [22/25], Val Loss: 0.462712, Val R2: 0.644045\n",
      "\n",
      "Worst 5 Time-Steps Val R2:\n",
      "    Time-step 50: R2 = 0.273581\n",
      "    Time-step 49: R2 = 0.286850\n",
      "    Time-step 48: R2 = 0.299045\n",
      "    Time-step 47: R2 = 0.311950\n",
      "    Time-step 46: R2 = 0.325733\n",
      "Best 5 Time-Steps Val R2:\n",
      "    Time-step 1: R2 = 0.986841\n",
      "    Time-step 2: R2 = 0.978082\n",
      "    Time-step 3: R2 = 0.968612\n",
      "    Time-step 4: R2 = 0.958574\n",
      "    Time-step 5: R2 = 0.948597\n",
      "\n",
      "-----------------------------------------------------------------\n",
      "\n"
     ]
    },
    {
     "name": "stderr",
     "output_type": "stream",
     "text": [
      "Epoch 23/25: 717it [00:56, 12.76it/s, train_loss=0.014965]\n"
     ]
    },
    {
     "name": "stdout",
     "output_type": "stream",
     "text": [
      "Epoch [23/25], Train Loss: 0.020334, Train R2: 0.983628\n",
      "\n",
      "Worst 5 Time-Steps Train R2:\n",
      "    Time-step 1: R2 = 0.974245\n",
      "    Time-step 2: R2 = 0.981088\n",
      "    Time-step 3: R2 = 0.982362\n",
      "    Time-step 4: R2 = 0.983057\n",
      "    Time-step 5: R2 = 0.983295\n",
      "Best 5 Time-Steps Train R2:\n",
      "    Time-step 34: R2 = 0.984104\n",
      "    Time-step 33: R2 = 0.984073\n",
      "    Time-step 21: R2 = 0.984058\n",
      "    Time-step 13: R2 = 0.984051\n",
      "    Time-step 32: R2 = 0.984048\n",
      "\n"
     ]
    },
    {
     "name": "stderr",
     "output_type": "stream",
     "text": [
      "Epoch 23/25: 207it [00:31,  6.59it/s, val_loss=0.304007]\n"
     ]
    },
    {
     "name": "stdout",
     "output_type": "stream",
     "text": [
      "Epoch [23/25], Val Loss: 0.519908, Val R2: 0.606310\n",
      "\n",
      "Worst 5 Time-Steps Val R2:\n",
      "    Time-step 50: R2 = 0.195049\n",
      "    Time-step 49: R2 = 0.208158\n",
      "    Time-step 48: R2 = 0.220440\n",
      "    Time-step 47: R2 = 0.233310\n",
      "    Time-step 46: R2 = 0.247384\n",
      "Best 5 Time-Steps Val R2:\n",
      "    Time-step 1: R2 = 0.985054\n",
      "    Time-step 2: R2 = 0.976126\n",
      "    Time-step 3: R2 = 0.965757\n",
      "    Time-step 4: R2 = 0.954944\n",
      "    Time-step 5: R2 = 0.944205\n",
      "\n",
      "-----------------------------------------------------------------\n",
      "\n"
     ]
    },
    {
     "name": "stderr",
     "output_type": "stream",
     "text": [
      "Epoch 24/25: 717it [00:55, 12.97it/s, train_loss=0.013251]\n"
     ]
    },
    {
     "name": "stdout",
     "output_type": "stream",
     "text": [
      "Epoch [24/25], Train Loss: 0.020258, Train R2: 0.983685\n",
      "\n",
      "Worst 5 Time-Steps Train R2:\n",
      "    Time-step 1: R2 = 0.974576\n",
      "    Time-step 2: R2 = 0.981241\n",
      "    Time-step 3: R2 = 0.982512\n",
      "    Time-step 4: R2 = 0.983117\n",
      "    Time-step 5: R2 = 0.983390\n",
      "Best 5 Time-Steps Train R2:\n",
      "    Time-step 34: R2 = 0.984200\n",
      "    Time-step 21: R2 = 0.984166\n",
      "    Time-step 23: R2 = 0.984142\n",
      "    Time-step 24: R2 = 0.984118\n",
      "    Time-step 28: R2 = 0.984100\n",
      "\n"
     ]
    },
    {
     "name": "stderr",
     "output_type": "stream",
     "text": [
      "Epoch 24/25: 207it [00:31,  6.52it/s, val_loss=0.329929]\n"
     ]
    },
    {
     "name": "stdout",
     "output_type": "stream",
     "text": [
      "Epoch [24/25], Val Loss: 0.458097, Val R2: 0.646090\n",
      "\n",
      "Worst 5 Time-Steps Val R2:\n",
      "    Time-step 50: R2 = 0.270183\n",
      "    Time-step 49: R2 = 0.283508\n",
      "    Time-step 48: R2 = 0.295797\n",
      "    Time-step 47: R2 = 0.309071\n",
      "    Time-step 46: R2 = 0.323396\n",
      "Best 5 Time-Steps Val R2:\n",
      "    Time-step 1: R2 = 0.988960\n",
      "    Time-step 2: R2 = 0.979865\n",
      "    Time-step 3: R2 = 0.970929\n",
      "    Time-step 4: R2 = 0.961288\n",
      "    Time-step 5: R2 = 0.951546\n",
      "\n",
      "-----------------------------------------------------------------\n",
      "\n"
     ]
    },
    {
     "name": "stderr",
     "output_type": "stream",
     "text": [
      "Epoch 25/25: 717it [00:55, 12.91it/s, train_loss=0.013757]\n"
     ]
    },
    {
     "name": "stdout",
     "output_type": "stream",
     "text": [
      "Epoch [25/25], Train Loss: 0.020191, Train R2: 0.983735\n",
      "\n",
      "Worst 5 Time-Steps Train R2:\n",
      "    Time-step 1: R2 = 0.974932\n",
      "    Time-step 2: R2 = 0.981290\n",
      "    Time-step 3: R2 = 0.982592\n",
      "    Time-step 4: R2 = 0.983128\n",
      "    Time-step 5: R2 = 0.983375\n",
      "Best 5 Time-Steps Train R2:\n",
      "    Time-step 33: R2 = 0.984194\n",
      "    Time-step 24: R2 = 0.984189\n",
      "    Time-step 23: R2 = 0.984161\n",
      "    Time-step 21: R2 = 0.984148\n",
      "    Time-step 17: R2 = 0.984143\n",
      "\n"
     ]
    },
    {
     "name": "stderr",
     "output_type": "stream",
     "text": [
      "Epoch 25/25: 207it [00:31,  6.49it/s, val_loss=0.270159]"
     ]
    },
    {
     "name": "stdout",
     "output_type": "stream",
     "text": [
      "Epoch [25/25], Val Loss: 0.465162, Val R2: 0.641302\n",
      "\n",
      "Worst 5 Time-Steps Val R2:\n",
      "    Time-step 50: R2 = 0.271085\n",
      "    Time-step 49: R2 = 0.283702\n",
      "    Time-step 48: R2 = 0.295199\n",
      "    Time-step 47: R2 = 0.307392\n",
      "    Time-step 46: R2 = 0.320595\n",
      "Best 5 Time-Steps Val R2:\n",
      "    Time-step 1: R2 = 0.988081\n",
      "    Time-step 2: R2 = 0.979447\n",
      "    Time-step 3: R2 = 0.970064\n",
      "    Time-step 4: R2 = 0.960049\n",
      "    Time-step 5: R2 = 0.950108\n",
      "\n",
      "-----------------------------------------------------------------\n",
      "\n"
     ]
    },
    {
     "name": "stderr",
     "output_type": "stream",
     "text": [
      "\n"
     ]
    }
   ],
   "source": [
    "model = TimeSeriesHuggingFaceTransformer(\n",
    "    input_window_len = input_window_length,\n",
    "    output_window_len = label_window_length,\n",
    "    input_dim = len(input_features),\n",
    "    output_dim = len(label_features),\n",
    "    d_model = embedding_dim,\n",
    "    num_head = num_attention_head,\n",
    "    num_encoder_layers = num_encoder_layers,\n",
    "    num_decoder_layers = num_encoder_layers,\n",
    "    position_wise_ffn_dim = position_wise_nn_dim,\n",
    "    relative_attention_num_buckets = relative_attention_num_buckets,\n",
    "    dropout = dropout\n",
    ").to(device)\n",
    "\n",
    "overfit_monitor = Overfit()\n",
    "\n",
    "print(f\"Number of trainable parameters in the model: {sum(p.numel() for p in model.parameters() if p.requires_grad)}\\n\")\n",
    "\n",
    "criterion = torch.nn.MSELoss()\n",
    "optimizer = torch.optim.Adam(\n",
    "    model.parameters(),\n",
    "    lr = learning_rate\n",
    ")\n",
    "\n",
    "train_r2 = R2Score(multioutput = \"uniform_average\").to(device)\n",
    "val_r2 = R2Score(multioutput = \"uniform_average\").to(device)\n",
    "\n",
    "train_per_timestep_r2 = [R2Score(multioutput = \"uniform_average\").to(device) for _ in range(label_window_length)]\n",
    "val_per_timestep_r2 = [R2Score(multioutput = \"uniform_average\").to(device) for _ in range(label_window_length)]\n",
    "\n",
    "overfit_count = 0\n",
    "\n",
    "for epoch in range(epochs):\n",
    "    train_loss, train_r2_value = train(\n",
    "        model = model,\n",
    "        optimizer = optimizer,\n",
    "        criterion = criterion,\n",
    "        r2 = train_r2,\n",
    "        per_timestep_r2 = train_per_timestep_r2,\n",
    "        data_loader = data_loader_train,\n",
    "        device = device,\n",
    "        epoch = epoch,\n",
    "        total_epochs = epochs\n",
    "    )\n",
    "\n",
    "    val_loss, val_r2_value = validate(\n",
    "        model = model,\n",
    "        criterion = criterion,\n",
    "        r2 = val_r2,\n",
    "        per_timestep_r2 = val_per_timestep_r2,\n",
    "        data_loader = data_loader_val,\n",
    "        device = device,\n",
    "        epoch = epoch,\n",
    "        total_epochs = epochs\n",
    "    )\n",
    "\n",
    "    # if(overfit_monitor.check(epoch = epoch, train_loss = train_loss, val_loss = val_loss)):\n",
    "    #     break"
   ]
  },
  {
   "cell_type": "code",
   "execution_count": 6,
   "id": "02088250",
   "metadata": {},
   "outputs": [],
   "source": [
    "torch.save(model, model_path)\n",
    "\n",
    "description = '''\n",
    "dataset: random\n",
    "bos_projector: non-linear (1 LeakyReLU)\n",
    "bos_input: encoder hidden state of last input time-step\n",
    "positional encoding: sin, cos\n",
    "seed_val: 7\n",
    "num_single_sample_timesteps: 1000\n",
    "input_window_len: 100\n",
    "label_window_len: 50\n",
    "window_stride: 10\n",
    "relative_attention_num_buckets: 64\n",
    "embedding_dim: 128\n",
    "num_attention_head: 8\n",
    "num_encoder_layers: 5\n",
    "num_decoder_layers: 5\n",
    "position_wise_nn_dim: 64\n",
    "dropout: 0.5\n",
    "batch_size: 128\n",
    "epochs: 25\n",
    "learning_rate: 0.0005\n",
    "psi_e, b_e, psi_plus, b_plus, u_list -> psi_e, b_e, psi_plus, b_plus, u_list\n",
    "\n",
    "'''\n",
    "\n",
    "with open(\"./results/experiments.txt\", mode = \"a\") as f:\n",
    "    f.write(str(datetime.now()).replace(\" \", \"-\") + \"\\n\")\n",
    "    f.write(f\"{model_path}\\n\\n\")\n",
    "    f.write(f\"Training Loss: {train_loss}, Training R2: {train_r2_value}\\n\")\n",
    "    f.write(f\"Validation Loss: {val_loss}, Validation R2: {val_r2_value}\\n\")\n",
    "    f.write(description)\n",
    "    f.write(\"==========================================\\n\")"
   ]
  },
  {
   "cell_type": "code",
   "execution_count": null,
   "id": "49846def",
   "metadata": {},
   "outputs": [],
   "source": []
  },
  {
   "cell_type": "code",
   "execution_count": null,
   "id": "385cffe6",
   "metadata": {},
   "outputs": [],
   "source": []
  },
  {
   "cell_type": "code",
   "execution_count": null,
   "id": "ee160512",
   "metadata": {},
   "outputs": [],
   "source": []
  },
  {
   "cell_type": "code",
   "execution_count": null,
   "id": "9bbe7a52",
   "metadata": {},
   "outputs": [],
   "source": []
  },
  {
   "cell_type": "code",
   "execution_count": null,
   "id": "401b6bc9",
   "metadata": {},
   "outputs": [],
   "source": []
  },
  {
   "cell_type": "code",
   "execution_count": null,
   "id": "5730cf0c",
   "metadata": {},
   "outputs": [],
   "source": []
  }
 ],
 "metadata": {
  "kernelspec": {
   "display_name": "thesis",
   "language": "python",
   "name": "python3"
  },
  "language_info": {
   "codemirror_mode": {
    "name": "ipython",
    "version": 3
   },
   "file_extension": ".py",
   "mimetype": "text/x-python",
   "name": "python",
   "nbconvert_exporter": "python",
   "pygments_lexer": "ipython3",
   "version": "3.10.12"
  }
 },
 "nbformat": 4,
 "nbformat_minor": 5
}

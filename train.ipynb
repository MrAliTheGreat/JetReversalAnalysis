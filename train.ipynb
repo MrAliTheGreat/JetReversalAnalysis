{
 "cells": [
  {
   "cell_type": "code",
   "execution_count": 1,
   "id": "917c5cbc",
   "metadata": {},
   "outputs": [],
   "source": [
    "import json\n",
    "\n",
    "with open(\"./params.json\", mode = \"r\", encoding = \"utf-8\") as f:\n",
    "    data = json.load(f)\n",
    "    seed_val = data[\"seed_val\"]\n",
    "    model_path = data[\"model_path\"]\n",
    "    dataset_path_train = data[\"dataset_path\"][\"train\"]\n",
    "    dataset_path_val = data[\"dataset_path\"][\"validation\"]\n",
    "    dataset_path_test = data[\"dataset_path\"][\"test\"]\n",
    "    num_single_sample_timesteps = data[\"num_single_sample_timesteps\"]\n",
    "    window_stride = data[\"window_stride\"]\n",
    "    input_window_length = data[\"input_window_length\"]\n",
    "    label_window_length = data[\"label_window_length\"]\n",
    "    input_features = data[\"input_features\"]\n",
    "    label_features = data[\"label_features\"]\n",
    "    positional_encoding_max_len = data[\"positional_encoding_max_len\"]\n",
    "    embedding_dim = data[\"embedding_dim\"]\n",
    "    num_attention_head = data[\"num_attention_head\"]\n",
    "    num_encoder_layers = data[\"num_encoder_layers\"]\n",
    "    num_decoder_layers = data[\"num_decoder_layers\"]\n",
    "    position_wise_nn_dim = data[\"position_wise_nn_dim\"]\n",
    "    dropout = data[\"dropout\"]\n",
    "    batch_size = data[\"batch_size\"]\n",
    "    epochs = data[\"epochs\"]\n",
    "    learning_rate = data[\"learning_rate\"]"
   ]
  },
  {
   "cell_type": "code",
   "execution_count": 2,
   "id": "1b44d554",
   "metadata": {},
   "outputs": [],
   "source": [
    "import random\n",
    "import numpy as np\n",
    "import torch\n",
    "\n",
    "device = torch.device(\"cuda\" if torch.cuda.is_available() else \"cpu\")\n",
    "\n",
    "torch.manual_seed(seed_val)\n",
    "random.seed(seed_val)\n",
    "np.random.seed(seed_val)"
   ]
  },
  {
   "cell_type": "code",
   "execution_count": 3,
   "id": "2c01badd",
   "metadata": {},
   "outputs": [
    {
     "name": "stderr",
     "output_type": "stream",
     "text": [
      "/users/labnet5/gr5/abahari/Documents/Thesis/src/thesis/lib/python3.10/site-packages/tqdm/auto.py:21: TqdmWarning: IProgress not found. Please update jupyter and ipywidgets. See https://ipywidgets.readthedocs.io/en/stable/user_install.html\n",
      "  from .autonotebook import tqdm as notebook_tqdm\n"
     ]
    }
   ],
   "source": [
    "from torch.utils.data import DataLoader\n",
    "from torchmetrics.regression import R2Score\n",
    "\n",
    "from utils.pipeline.Data import get_mean_std_respected_temporal, WindowedIterableDataset\n",
    "from utils.pipeline.Model import TimeSeriesHuggingFaceTransformer\n",
    "from utils.pipeline.Run import train, validate\n",
    "from utils.pipeline.Monitor import Overfit"
   ]
  },
  {
   "cell_type": "code",
   "execution_count": 4,
   "id": "33375a1f",
   "metadata": {},
   "outputs": [],
   "source": [
    "##### TRAIN #####\n",
    "# stats = get_mean_std(\n",
    "#     dataset_path = dataset_path_train,\n",
    "#     cols = input_features\n",
    "# )\n",
    "\n",
    "stats = get_mean_std_respected_temporal(\n",
    "    dataset_path = dataset_path_train,\n",
    "    cols = input_features,\n",
    "    num_single_sample_timesteps = num_single_sample_timesteps,\n",
    "    input_window_len = input_window_length,\n",
    "    label_window_len = label_window_length,\n",
    "    window_stride = window_stride\n",
    ")\n",
    "\n",
    "df_train = WindowedIterableDataset(\n",
    "    dataset_path = dataset_path_train,\n",
    "    stats = stats,\n",
    "    input_features = input_features,\n",
    "    label_features = label_features,\n",
    "    num_single_sample_timesteps = num_single_sample_timesteps,\n",
    "    stride = window_stride,\n",
    "    input_window_length = input_window_length,\n",
    "    label_window_length = label_window_length\n",
    ")\n",
    "\n",
    "data_loader_train = DataLoader(\n",
    "    df_train,\n",
    "    batch_size = batch_size,\n",
    "    # num_workers = 0,\n",
    "    # prefetch_factor = 12,\n",
    "    # persistent_workers = False,\n",
    "    pin_memory = True\n",
    ")\n",
    "\n",
    "\n",
    "\n",
    "##### VALIDATION #####\n",
    "df_val = WindowedIterableDataset(\n",
    "    dataset_path = dataset_path_val,\n",
    "    stats = stats,\n",
    "    input_features = input_features,\n",
    "    label_features = label_features,\n",
    "    num_single_sample_timesteps = num_single_sample_timesteps,\n",
    "    stride = window_stride,\n",
    "    input_window_length = input_window_length,\n",
    "    label_window_length = label_window_length\n",
    ")\n",
    "\n",
    "data_loader_val = DataLoader(\n",
    "    df_val,\n",
    "    batch_size = batch_size,\n",
    "    # num_workers = 0,\n",
    "    # prefetch_factor = 12,\n",
    "    # persistent_workers = False,\n",
    "    pin_memory = True\n",
    ")\n",
    "\n",
    "\n",
    "\n",
    "##### TEST #####\n",
    "df_test = WindowedIterableDataset(\n",
    "    dataset_path = dataset_path_test,\n",
    "    stats = stats,\n",
    "    input_features = input_features,\n",
    "    label_features = label_features,\n",
    "    num_single_sample_timesteps = num_single_sample_timesteps,\n",
    "    stride = window_stride,\n",
    "    input_window_length = input_window_length,\n",
    "    label_window_length = label_window_length\n",
    ")\n",
    "\n",
    "data_loader_test = DataLoader(\n",
    "    df_test,\n",
    "    batch_size = batch_size,\n",
    "    # num_workers = 0,\n",
    "    # prefetch_factor = 12,\n",
    "    # persistent_workers = False,\n",
    "    pin_memory = True\n",
    ")"
   ]
  },
  {
   "cell_type": "code",
   "execution_count": 5,
   "id": "4cfc6517",
   "metadata": {},
   "outputs": [
    {
     "name": "stdout",
     "output_type": "stream",
     "text": [
      "Number of trainable parameters in the model: 1187334\n",
      "\n"
     ]
    },
    {
     "name": "stderr",
     "output_type": "stream",
     "text": [
      "Epoch 1/15: 717it [00:56, 12.61it/s, train_loss=0.202197]\n"
     ]
    },
    {
     "name": "stdout",
     "output_type": "stream",
     "text": [
      "Epoch [1/15], Train Loss: 0.255438, Train R2: 0.762548\n",
      "\n",
      "Worst 5 Time-Steps Train R2:\n",
      "    Time-step 1: R2 = 0.601804\n",
      "    Time-step 2: R2 = 0.745500\n",
      "    Time-step 3: R2 = 0.754831\n",
      "    Time-step 4: R2 = 0.759542\n",
      "    Time-step 50: R2 = 0.762279\n",
      "Best 5 Time-Steps Train R2:\n",
      "    Time-step 14: R2 = 0.769475\n",
      "    Time-step 18: R2 = 0.769312\n",
      "    Time-step 17: R2 = 0.769219\n",
      "    Time-step 12: R2 = 0.768972\n",
      "    Time-step 15: R2 = 0.768956\n",
      "\n"
     ]
    },
    {
     "name": "stderr",
     "output_type": "stream",
     "text": [
      "Epoch 1/15: 207it [00:32,  6.45it/s, val_loss=0.591205]\n"
     ]
    },
    {
     "name": "stdout",
     "output_type": "stream",
     "text": [
      "Epoch [1/15], Val Loss: 0.876918, Val R2: 0.280655\n",
      "\n",
      "Worst 5 Time-Steps Val R2:\n",
      "    Time-step 50: R2 = -0.185781\n",
      "    Time-step 49: R2 = -0.180037\n",
      "    Time-step 48: R2 = -0.173331\n",
      "    Time-step 47: R2 = -0.166245\n",
      "    Time-step 46: R2 = -0.158242\n",
      "Best 5 Time-Steps Val R2:\n",
      "    Time-step 1: R2 = 0.797471\n",
      "    Time-step 2: R2 = 0.786942\n",
      "    Time-step 3: R2 = 0.774830\n",
      "    Time-step 4: R2 = 0.761241\n",
      "    Time-step 5: R2 = 0.747236\n",
      "\n",
      "-----------------------------------------------------------------\n",
      "\n"
     ]
    },
    {
     "name": "stderr",
     "output_type": "stream",
     "text": [
      "Epoch 2/15: 717it [00:59, 12.04it/s, train_loss=0.196185]\n"
     ]
    },
    {
     "name": "stdout",
     "output_type": "stream",
     "text": [
      "Epoch [2/15], Train Loss: 0.197762, Train R2: 0.808505\n",
      "\n",
      "Worst 5 Time-Steps Train R2:\n",
      "    Time-step 1: R2 = 0.749041\n",
      "    Time-step 2: R2 = 0.800767\n",
      "    Time-step 3: R2 = 0.805442\n",
      "    Time-step 4: R2 = 0.807811\n",
      "    Time-step 5: R2 = 0.808767\n",
      "Best 5 Time-Steps Train R2:\n",
      "    Time-step 22: R2 = 0.810694\n",
      "    Time-step 23: R2 = 0.810669\n",
      "    Time-step 21: R2 = 0.810664\n",
      "    Time-step 17: R2 = 0.810573\n",
      "    Time-step 20: R2 = 0.810570\n",
      "\n"
     ]
    },
    {
     "name": "stderr",
     "output_type": "stream",
     "text": [
      "Epoch 2/15: 207it [00:32,  6.42it/s, val_loss=0.595157]\n"
     ]
    },
    {
     "name": "stdout",
     "output_type": "stream",
     "text": [
      "Epoch [2/15], Val Loss: 0.945997, Val R2: 0.223106\n",
      "\n",
      "Worst 5 Time-Steps Val R2:\n",
      "    Time-step 50: R2 = -0.363033\n",
      "    Time-step 49: R2 = -0.353631\n",
      "    Time-step 48: R2 = -0.343673\n",
      "    Time-step 47: R2 = -0.331962\n",
      "    Time-step 46: R2 = -0.318973\n",
      "Best 5 Time-Steps Val R2:\n",
      "    Time-step 1: R2 = 0.808475\n",
      "    Time-step 2: R2 = 0.798776\n",
      "    Time-step 3: R2 = 0.787600\n",
      "    Time-step 4: R2 = 0.774987\n",
      "    Time-step 5: R2 = 0.761034\n",
      "\n",
      "-----------------------------------------------------------------\n",
      "\n"
     ]
    },
    {
     "name": "stderr",
     "output_type": "stream",
     "text": [
      "Epoch 3/15: 717it [00:59, 12.03it/s, train_loss=0.194294]\n"
     ]
    },
    {
     "name": "stdout",
     "output_type": "stream",
     "text": [
      "Epoch [3/15], Train Loss: 0.192828, Train R2: 0.812436\n",
      "\n",
      "Worst 5 Time-Steps Train R2:\n",
      "    Time-step 1: R2 = 0.765608\n",
      "    Time-step 2: R2 = 0.805799\n",
      "    Time-step 3: R2 = 0.809988\n",
      "    Time-step 4: R2 = 0.811896\n",
      "    Time-step 5: R2 = 0.812720\n",
      "Best 5 Time-Steps Train R2:\n",
      "    Time-step 24: R2 = 0.814091\n",
      "    Time-step 17: R2 = 0.814064\n",
      "    Time-step 22: R2 = 0.814037\n",
      "    Time-step 14: R2 = 0.814020\n",
      "    Time-step 20: R2 = 0.814019\n",
      "\n"
     ]
    },
    {
     "name": "stderr",
     "output_type": "stream",
     "text": [
      "Epoch 3/15: 207it [00:32,  6.46it/s, val_loss=0.536638]\n"
     ]
    },
    {
     "name": "stdout",
     "output_type": "stream",
     "text": [
      "Epoch [3/15], Val Loss: 0.795977, Val R2: 0.339203\n",
      "\n",
      "Worst 5 Time-Steps Val R2:\n",
      "    Time-step 50: R2 = -0.143385\n",
      "    Time-step 49: R2 = -0.133543\n",
      "    Time-step 48: R2 = -0.123230\n",
      "    Time-step 47: R2 = -0.111250\n",
      "    Time-step 46: R2 = -0.098358\n",
      "Best 5 Time-Steps Val R2:\n",
      "    Time-step 1: R2 = 0.812769\n",
      "    Time-step 2: R2 = 0.802962\n",
      "    Time-step 3: R2 = 0.792458\n",
      "    Time-step 4: R2 = 0.781150\n",
      "    Time-step 5: R2 = 0.768991\n",
      "\n",
      "-----------------------------------------------------------------\n",
      "\n"
     ]
    },
    {
     "name": "stderr",
     "output_type": "stream",
     "text": [
      "Epoch 4/15: 717it [00:58, 12.35it/s, train_loss=0.192748]\n"
     ]
    },
    {
     "name": "stdout",
     "output_type": "stream",
     "text": [
      "Epoch [4/15], Train Loss: 0.190334, Train R2: 0.814413\n",
      "\n",
      "Worst 5 Time-Steps Train R2:\n",
      "    Time-step 1: R2 = 0.774147\n",
      "    Time-step 2: R2 = 0.808295\n",
      "    Time-step 3: R2 = 0.812374\n",
      "    Time-step 4: R2 = 0.813910\n",
      "    Time-step 5: R2 = 0.814677\n",
      "Best 5 Time-Steps Train R2:\n",
      "    Time-step 27: R2 = 0.815768\n",
      "    Time-step 24: R2 = 0.815720\n",
      "    Time-step 31: R2 = 0.815715\n",
      "    Time-step 16: R2 = 0.815712\n",
      "    Time-step 21: R2 = 0.815709\n",
      "\n"
     ]
    },
    {
     "name": "stderr",
     "output_type": "stream",
     "text": [
      "Epoch 4/15: 207it [00:31,  6.48it/s, val_loss=0.545800]\n"
     ]
    },
    {
     "name": "stdout",
     "output_type": "stream",
     "text": [
      "Epoch [4/15], Val Loss: 0.762721, Val R2: 0.370914\n",
      "\n",
      "Worst 5 Time-Steps Val R2:\n",
      "    Time-step 50: R2 = -0.059077\n",
      "    Time-step 49: R2 = -0.049626\n",
      "    Time-step 48: R2 = -0.039943\n",
      "    Time-step 47: R2 = -0.028983\n",
      "    Time-step 46: R2 = -0.017005\n",
      "Best 5 Time-Steps Val R2:\n",
      "    Time-step 1: R2 = 0.814807\n",
      "    Time-step 2: R2 = 0.805858\n",
      "    Time-step 3: R2 = 0.795952\n",
      "    Time-step 4: R2 = 0.785069\n",
      "    Time-step 5: R2 = 0.773214\n",
      "\n",
      "-----------------------------------------------------------------\n",
      "\n"
     ]
    },
    {
     "name": "stderr",
     "output_type": "stream",
     "text": [
      "Epoch 5/15: 717it [00:58, 12.16it/s, train_loss=0.192571]\n"
     ]
    },
    {
     "name": "stdout",
     "output_type": "stream",
     "text": [
      "Epoch [5/15], Train Loss: 0.189086, Train R2: 0.815418\n",
      "\n",
      "Worst 5 Time-Steps Train R2:\n",
      "    Time-step 1: R2 = 0.779805\n",
      "    Time-step 2: R2 = 0.809607\n",
      "    Time-step 3: R2 = 0.813536\n",
      "    Time-step 4: R2 = 0.815107\n",
      "    Time-step 5: R2 = 0.815585\n",
      "Best 5 Time-Steps Train R2:\n",
      "    Time-step 22: R2 = 0.816623\n",
      "    Time-step 21: R2 = 0.816611\n",
      "    Time-step 24: R2 = 0.816602\n",
      "    Time-step 27: R2 = 0.816590\n",
      "    Time-step 20: R2 = 0.816554\n",
      "\n"
     ]
    },
    {
     "name": "stderr",
     "output_type": "stream",
     "text": [
      "Epoch 5/15: 207it [00:31,  6.48it/s, val_loss=0.598100]\n"
     ]
    },
    {
     "name": "stdout",
     "output_type": "stream",
     "text": [
      "Epoch [5/15], Val Loss: 0.801909, Val R2: 0.350359\n",
      "\n",
      "Worst 5 Time-Steps Val R2:\n",
      "    Time-step 50: R2 = -0.115896\n",
      "    Time-step 49: R2 = -0.106021\n",
      "    Time-step 48: R2 = -0.095737\n",
      "    Time-step 47: R2 = -0.083916\n",
      "    Time-step 46: R2 = -0.070734\n",
      "Best 5 Time-Steps Val R2:\n",
      "    Time-step 1: R2 = 0.812675\n",
      "    Time-step 2: R2 = 0.801909\n",
      "    Time-step 3: R2 = 0.790359\n",
      "    Time-step 4: R2 = 0.778102\n",
      "    Time-step 5: R2 = 0.764975\n",
      "\n",
      "-----------------------------------------------------------------\n",
      "\n"
     ]
    },
    {
     "name": "stderr",
     "output_type": "stream",
     "text": [
      "Epoch 6/15: 717it [01:00, 11.84it/s, train_loss=0.193750]\n"
     ]
    },
    {
     "name": "stdout",
     "output_type": "stream",
     "text": [
      "Epoch [6/15], Train Loss: 0.188146, Train R2: 0.816158\n",
      "\n",
      "Worst 5 Time-Steps Train R2:\n",
      "    Time-step 1: R2 = 0.784111\n",
      "    Time-step 2: R2 = 0.810471\n",
      "    Time-step 3: R2 = 0.814389\n",
      "    Time-step 4: R2 = 0.815857\n",
      "    Time-step 5: R2 = 0.816339\n",
      "Best 5 Time-Steps Train R2:\n",
      "    Time-step 17: R2 = 0.817247\n",
      "    Time-step 12: R2 = 0.817211\n",
      "    Time-step 28: R2 = 0.817198\n",
      "    Time-step 27: R2 = 0.817195\n",
      "    Time-step 20: R2 = 0.817195\n",
      "\n"
     ]
    },
    {
     "name": "stderr",
     "output_type": "stream",
     "text": [
      "Epoch 6/15: 207it [00:32,  6.44it/s, val_loss=0.434647]\n"
     ]
    },
    {
     "name": "stdout",
     "output_type": "stream",
     "text": [
      "Epoch [6/15], Val Loss: 0.573593, Val R2: 0.517649\n",
      "\n",
      "Worst 5 Time-Steps Val R2:\n",
      "    Time-step 50: R2 = 0.184812\n",
      "    Time-step 49: R2 = 0.198516\n",
      "    Time-step 48: R2 = 0.211089\n",
      "    Time-step 47: R2 = 0.224869\n",
      "    Time-step 46: R2 = 0.238682\n",
      "Best 5 Time-Steps Val R2:\n",
      "    Time-step 1: R2 = 0.814156\n",
      "    Time-step 2: R2 = 0.806050\n",
      "    Time-step 3: R2 = 0.797829\n",
      "    Time-step 4: R2 = 0.789307\n",
      "    Time-step 5: R2 = 0.780416\n",
      "\n",
      "-----------------------------------------------------------------\n",
      "\n"
     ]
    },
    {
     "name": "stderr",
     "output_type": "stream",
     "text": [
      "Epoch 7/15: 717it [00:59, 11.99it/s, train_loss=0.190775]\n"
     ]
    },
    {
     "name": "stdout",
     "output_type": "stream",
     "text": [
      "Epoch [7/15], Train Loss: 0.187451, Train R2: 0.816693\n",
      "\n",
      "Worst 5 Time-Steps Train R2:\n",
      "    Time-step 1: R2 = 0.787313\n",
      "    Time-step 2: R2 = 0.811251\n",
      "    Time-step 3: R2 = 0.815046\n",
      "    Time-step 4: R2 = 0.816379\n",
      "    Time-step 5: R2 = 0.816814\n",
      "Best 5 Time-Steps Train R2:\n",
      "    Time-step 31: R2 = 0.817674\n",
      "    Time-step 21: R2 = 0.817665\n",
      "    Time-step 16: R2 = 0.817663\n",
      "    Time-step 22: R2 = 0.817660\n",
      "    Time-step 26: R2 = 0.817638\n",
      "\n"
     ]
    },
    {
     "name": "stderr",
     "output_type": "stream",
     "text": [
      "Epoch 7/15: 207it [00:32,  6.44it/s, val_loss=0.434539]\n"
     ]
    },
    {
     "name": "stdout",
     "output_type": "stream",
     "text": [
      "Epoch [7/15], Val Loss: 0.616855, Val R2: 0.488057\n",
      "\n",
      "Worst 5 Time-Steps Val R2:\n",
      "    Time-step 50: R2 = 0.124351\n",
      "    Time-step 49: R2 = 0.136359\n",
      "    Time-step 48: R2 = 0.148262\n",
      "    Time-step 47: R2 = 0.161261\n",
      "    Time-step 46: R2 = 0.174939\n",
      "Best 5 Time-Steps Val R2:\n",
      "    Time-step 1: R2 = 0.817404\n",
      "    Time-step 2: R2 = 0.808687\n",
      "    Time-step 3: R2 = 0.799688\n",
      "    Time-step 4: R2 = 0.790277\n",
      "    Time-step 5: R2 = 0.780501\n",
      "\n",
      "-----------------------------------------------------------------\n",
      "\n"
     ]
    },
    {
     "name": "stderr",
     "output_type": "stream",
     "text": [
      "Epoch 8/15: 717it [00:59, 11.97it/s, train_loss=0.191157]\n"
     ]
    },
    {
     "name": "stdout",
     "output_type": "stream",
     "text": [
      "Epoch [8/15], Train Loss: 0.186756, Train R2: 0.817235\n",
      "\n",
      "Worst 5 Time-Steps Train R2:\n",
      "    Time-step 1: R2 = 0.790392\n",
      "    Time-step 2: R2 = 0.811920\n",
      "    Time-step 3: R2 = 0.815518\n",
      "    Time-step 4: R2 = 0.816879\n",
      "    Time-step 5: R2 = 0.817361\n",
      "Best 5 Time-Steps Train R2:\n",
      "    Time-step 21: R2 = 0.818195\n",
      "    Time-step 14: R2 = 0.818138\n",
      "    Time-step 31: R2 = 0.818125\n",
      "    Time-step 22: R2 = 0.818122\n",
      "    Time-step 26: R2 = 0.818122\n",
      "\n"
     ]
    },
    {
     "name": "stderr",
     "output_type": "stream",
     "text": [
      "Epoch 8/15: 207it [00:32,  6.47it/s, val_loss=0.510103]\n"
     ]
    },
    {
     "name": "stdout",
     "output_type": "stream",
     "text": [
      "Epoch [8/15], Val Loss: 0.662682, Val R2: 0.445889\n",
      "\n",
      "Worst 5 Time-Steps Val R2:\n",
      "    Time-step 50: R2 = 0.074644\n",
      "    Time-step 49: R2 = 0.084681\n",
      "    Time-step 48: R2 = 0.094601\n",
      "    Time-step 47: R2 = 0.105614\n",
      "    Time-step 46: R2 = 0.117579\n",
      "Best 5 Time-Steps Val R2:\n",
      "    Time-step 1: R2 = 0.816040\n",
      "    Time-step 2: R2 = 0.806884\n",
      "    Time-step 3: R2 = 0.797182\n",
      "    Time-step 4: R2 = 0.786853\n",
      "    Time-step 5: R2 = 0.775881\n",
      "\n",
      "-----------------------------------------------------------------\n",
      "\n"
     ]
    },
    {
     "name": "stderr",
     "output_type": "stream",
     "text": [
      "Epoch 9/15: 717it [01:00, 11.82it/s, train_loss=0.190923]\n"
     ]
    },
    {
     "name": "stdout",
     "output_type": "stream",
     "text": [
      "Epoch [9/15], Train Loss: 0.186450, Train R2: 0.817497\n",
      "\n",
      "Worst 5 Time-Steps Train R2:\n",
      "    Time-step 1: R2 = 0.792562\n",
      "    Time-step 2: R2 = 0.812475\n",
      "    Time-step 3: R2 = 0.815787\n",
      "    Time-step 4: R2 = 0.817082\n",
      "    Time-step 5: R2 = 0.817537\n",
      "Best 5 Time-Steps Train R2:\n",
      "    Time-step 24: R2 = 0.818389\n",
      "    Time-step 33: R2 = 0.818366\n",
      "    Time-step 16: R2 = 0.818339\n",
      "    Time-step 27: R2 = 0.818337\n",
      "    Time-step 18: R2 = 0.818330\n",
      "\n"
     ]
    },
    {
     "name": "stderr",
     "output_type": "stream",
     "text": [
      "Epoch 9/15: 207it [00:32,  6.44it/s, val_loss=0.651135]\n"
     ]
    },
    {
     "name": "stdout",
     "output_type": "stream",
     "text": [
      "Epoch [9/15], Val Loss: 0.651850, Val R2: 0.459961\n",
      "\n",
      "Worst 5 Time-Steps Val R2:\n",
      "    Time-step 50: R2 = 0.068015\n",
      "    Time-step 49: R2 = 0.079285\n",
      "    Time-step 48: R2 = 0.090351\n",
      "    Time-step 47: R2 = 0.102834\n",
      "    Time-step 46: R2 = 0.116403\n",
      "Best 5 Time-Steps Val R2:\n",
      "    Time-step 1: R2 = 0.816903\n",
      "    Time-step 2: R2 = 0.807876\n",
      "    Time-step 3: R2 = 0.798464\n",
      "    Time-step 4: R2 = 0.788656\n",
      "    Time-step 5: R2 = 0.778378\n",
      "\n",
      "-----------------------------------------------------------------\n",
      "\n"
     ]
    },
    {
     "name": "stderr",
     "output_type": "stream",
     "text": [
      "Epoch 10/15: 717it [00:59, 12.00it/s, train_loss=0.191565]\n"
     ]
    },
    {
     "name": "stdout",
     "output_type": "stream",
     "text": [
      "Epoch [10/15], Train Loss: 0.186079, Train R2: 0.817784\n",
      "\n",
      "Worst 5 Time-Steps Train R2:\n",
      "    Time-step 1: R2 = 0.794459\n",
      "    Time-step 2: R2 = 0.812784\n",
      "    Time-step 3: R2 = 0.816146\n",
      "    Time-step 4: R2 = 0.817408\n",
      "    Time-step 5: R2 = 0.817803\n",
      "Best 5 Time-Steps Train R2:\n",
      "    Time-step 21: R2 = 0.818601\n",
      "    Time-step 34: R2 = 0.818583\n",
      "    Time-step 24: R2 = 0.818581\n",
      "    Time-step 41: R2 = 0.818566\n",
      "    Time-step 17: R2 = 0.818562\n",
      "\n"
     ]
    },
    {
     "name": "stderr",
     "output_type": "stream",
     "text": [
      "Epoch 10/15: 207it [00:32,  6.43it/s, val_loss=0.785395]\n"
     ]
    },
    {
     "name": "stdout",
     "output_type": "stream",
     "text": [
      "Epoch [10/15], Val Loss: 0.711474, Val R2: 0.408786\n",
      "\n",
      "Worst 5 Time-Steps Val R2:\n",
      "    Time-step 50: R2 = 0.037710\n",
      "    Time-step 49: R2 = 0.046398\n",
      "    Time-step 48: R2 = 0.054893\n",
      "    Time-step 47: R2 = 0.064565\n",
      "    Time-step 46: R2 = 0.075263\n",
      "Best 5 Time-Steps Val R2:\n",
      "    Time-step 1: R2 = 0.815775\n",
      "    Time-step 2: R2 = 0.804830\n",
      "    Time-step 3: R2 = 0.793201\n",
      "    Time-step 4: R2 = 0.780946\n",
      "    Time-step 5: R2 = 0.767855\n",
      "\n",
      "-----------------------------------------------------------------\n",
      "\n"
     ]
    },
    {
     "name": "stderr",
     "output_type": "stream",
     "text": [
      "Epoch 11/15: 717it [00:57, 12.46it/s, train_loss=0.190298]\n"
     ]
    },
    {
     "name": "stdout",
     "output_type": "stream",
     "text": [
      "Epoch [11/15], Train Loss: 0.185750, Train R2: 0.818028\n",
      "\n",
      "Worst 5 Time-Steps Train R2:\n",
      "    Time-step 1: R2 = 0.796361\n",
      "    Time-step 2: R2 = 0.813233\n",
      "    Time-step 3: R2 = 0.816438\n",
      "    Time-step 4: R2 = 0.817635\n",
      "    Time-step 5: R2 = 0.818053\n",
      "Best 5 Time-Steps Train R2:\n",
      "    Time-step 31: R2 = 0.818790\n",
      "    Time-step 32: R2 = 0.818784\n",
      "    Time-step 22: R2 = 0.818771\n",
      "    Time-step 17: R2 = 0.818763\n",
      "    Time-step 24: R2 = 0.818762\n",
      "\n"
     ]
    },
    {
     "name": "stderr",
     "output_type": "stream",
     "text": [
      "Epoch 11/15: 207it [00:32,  6.46it/s, val_loss=0.613511]\n"
     ]
    },
    {
     "name": "stdout",
     "output_type": "stream",
     "text": [
      "Epoch [11/15], Val Loss: 0.634822, Val R2: 0.470096\n",
      "\n",
      "Worst 5 Time-Steps Val R2:\n",
      "    Time-step 50: R2 = 0.125439\n",
      "    Time-step 49: R2 = 0.135957\n",
      "    Time-step 48: R2 = 0.145683\n",
      "    Time-step 47: R2 = 0.156885\n",
      "    Time-step 46: R2 = 0.168701\n",
      "Best 5 Time-Steps Val R2:\n",
      "    Time-step 1: R2 = 0.815831\n",
      "    Time-step 2: R2 = 0.806349\n",
      "    Time-step 3: R2 = 0.796505\n",
      "    Time-step 4: R2 = 0.786196\n",
      "    Time-step 5: R2 = 0.775348\n",
      "\n",
      "-----------------------------------------------------------------\n",
      "\n",
      "Possible Overfitting!!! 1/3\n",
      "\n"
     ]
    },
    {
     "name": "stderr",
     "output_type": "stream",
     "text": [
      "Epoch 12/15: 717it [00:59, 11.95it/s, train_loss=0.189604]\n"
     ]
    },
    {
     "name": "stdout",
     "output_type": "stream",
     "text": [
      "Epoch [12/15], Train Loss: 0.185464, Train R2: 0.818252\n",
      "\n",
      "Worst 5 Time-Steps Train R2:\n",
      "    Time-step 1: R2 = 0.797621\n",
      "    Time-step 2: R2 = 0.813607\n",
      "    Time-step 3: R2 = 0.816600\n",
      "    Time-step 4: R2 = 0.817892\n",
      "    Time-step 5: R2 = 0.818249\n",
      "Best 5 Time-Steps Train R2:\n",
      "    Time-step 22: R2 = 0.818954\n",
      "    Time-step 17: R2 = 0.818949\n",
      "    Time-step 27: R2 = 0.818949\n",
      "    Time-step 31: R2 = 0.818943\n",
      "    Time-step 30: R2 = 0.818942\n",
      "\n"
     ]
    },
    {
     "name": "stderr",
     "output_type": "stream",
     "text": [
      "Epoch 12/15: 207it [00:32,  6.44it/s, val_loss=0.537802]\n"
     ]
    },
    {
     "name": "stdout",
     "output_type": "stream",
     "text": [
      "Epoch [12/15], Val Loss: 0.585306, Val R2: 0.512427\n",
      "\n",
      "Worst 5 Time-Steps Val R2:\n",
      "    Time-step 50: R2 = 0.161595\n",
      "    Time-step 49: R2 = 0.175311\n",
      "    Time-step 48: R2 = 0.188031\n",
      "    Time-step 47: R2 = 0.202074\n",
      "    Time-step 46: R2 = 0.216824\n",
      "Best 5 Time-Steps Val R2:\n",
      "    Time-step 1: R2 = 0.818471\n",
      "    Time-step 2: R2 = 0.809687\n",
      "    Time-step 3: R2 = 0.800769\n",
      "    Time-step 4: R2 = 0.791602\n",
      "    Time-step 5: R2 = 0.782013\n",
      "\n",
      "-----------------------------------------------------------------\n",
      "\n",
      "Possible Overfitting!!! 2/3\n",
      "\n"
     ]
    },
    {
     "name": "stderr",
     "output_type": "stream",
     "text": [
      "Epoch 13/15: 717it [00:59, 11.98it/s, train_loss=0.190089]\n"
     ]
    },
    {
     "name": "stdout",
     "output_type": "stream",
     "text": [
      "Epoch [13/15], Train Loss: 0.185274, Train R2: 0.818402\n",
      "\n",
      "Worst 5 Time-Steps Train R2:\n",
      "    Time-step 1: R2 = 0.798734\n",
      "    Time-step 2: R2 = 0.813912\n",
      "    Time-step 3: R2 = 0.816766\n",
      "    Time-step 4: R2 = 0.817978\n",
      "    Time-step 5: R2 = 0.818364\n",
      "Best 5 Time-Steps Train R2:\n",
      "    Time-step 22: R2 = 0.819107\n",
      "    Time-step 31: R2 = 0.819105\n",
      "    Time-step 21: R2 = 0.819100\n",
      "    Time-step 34: R2 = 0.819096\n",
      "    Time-step 24: R2 = 0.819072\n",
      "\n"
     ]
    },
    {
     "name": "stderr",
     "output_type": "stream",
     "text": [
      "Epoch 13/15: 207it [00:32,  6.43it/s, val_loss=0.500393]"
     ]
    },
    {
     "name": "stdout",
     "output_type": "stream",
     "text": [
      "Epoch [13/15], Val Loss: 0.596990, Val R2: 0.505712\n",
      "\n",
      "Worst 5 Time-Steps Val R2:\n",
      "    Time-step 50: R2 = 0.153202\n",
      "    Time-step 49: R2 = 0.165724\n",
      "    Time-step 48: R2 = 0.177931\n",
      "    Time-step 47: R2 = 0.191003\n",
      "    Time-step 46: R2 = 0.204948\n",
      "Best 5 Time-Steps Val R2:\n",
      "    Time-step 1: R2 = 0.818966\n",
      "    Time-step 2: R2 = 0.810412\n",
      "    Time-step 3: R2 = 0.801852\n",
      "    Time-step 4: R2 = 0.793139\n",
      "    Time-step 5: R2 = 0.784156\n",
      "\n",
      "-----------------------------------------------------------------\n",
      "\n",
      "Possible Overfitting!!! 3/3\n",
      "\n",
      "Training Stopped!!!\n"
     ]
    },
    {
     "name": "stderr",
     "output_type": "stream",
     "text": [
      "\n"
     ]
    }
   ],
   "source": [
    "model = TimeSeriesHuggingFaceTransformer(\n",
    "    input_dim = len(input_features),\n",
    "    output_dim = len(label_features),\n",
    "    d_model = embedding_dim,\n",
    "    num_head = num_attention_head,\n",
    "    num_encoder_layers = num_encoder_layers,\n",
    "    num_decoder_layers = num_encoder_layers,\n",
    "    position_wise_ffn_dim = position_wise_nn_dim,\n",
    "    dropout = dropout\n",
    ").to(device)\n",
    "\n",
    "overfit_monitor = Overfit()\n",
    "\n",
    "print(f\"Number of trainable parameters in the model: {sum(p.numel() for p in model.parameters() if p.requires_grad)}\\n\")\n",
    "\n",
    "criterion = torch.nn.MSELoss()\n",
    "optimizer = torch.optim.Adam(\n",
    "    model.parameters(),\n",
    "    lr = learning_rate\n",
    ")\n",
    "\n",
    "train_r2 = R2Score(multioutput = \"uniform_average\").to(device)\n",
    "val_r2 = R2Score(multioutput = \"uniform_average\").to(device)\n",
    "\n",
    "train_per_timestep_r2 = [R2Score(multioutput = \"uniform_average\").to(device) for _ in range(label_window_length)]\n",
    "val_per_timestep_r2 = [R2Score(multioutput = \"uniform_average\").to(device) for _ in range(label_window_length)]\n",
    "\n",
    "overfit_count = 0\n",
    "\n",
    "for epoch in range(epochs):\n",
    "    train_loss, _ = train(\n",
    "        model = model,\n",
    "        optimizer = optimizer,\n",
    "        criterion = criterion,\n",
    "        r2 = train_r2,\n",
    "        per_timestep_r2 = train_per_timestep_r2,\n",
    "        data_loader = data_loader_train,\n",
    "        device = device,\n",
    "        epoch = epoch,\n",
    "        total_epochs = epochs\n",
    "    )\n",
    "\n",
    "    val_loss, _ = validate(\n",
    "        model = model,\n",
    "        criterion = criterion,\n",
    "        r2 = val_r2,\n",
    "        per_timestep_r2 = val_per_timestep_r2,\n",
    "        data_loader = data_loader_val,\n",
    "        device = device,\n",
    "        epoch = epoch,\n",
    "        total_epochs = epochs\n",
    "    )\n",
    "\n",
    "    if(overfit_monitor.check(epoch = epoch, train_loss = train_loss, val_loss = val_loss)):\n",
    "        break"
   ]
  },
  {
   "cell_type": "code",
   "execution_count": 6,
   "id": "3d1998dc",
   "metadata": {},
   "outputs": [],
   "source": [
    "torch.save(model, model_path)"
   ]
  },
  {
   "cell_type": "code",
   "execution_count": null,
   "id": "8c549f60",
   "metadata": {},
   "outputs": [],
   "source": []
  },
  {
   "cell_type": "code",
   "execution_count": null,
   "id": "c1e5ddae",
   "metadata": {},
   "outputs": [],
   "source": []
  }
 ],
 "metadata": {
  "kernelspec": {
   "display_name": "thesis",
   "language": "python",
   "name": "python3"
  },
  "language_info": {
   "codemirror_mode": {
    "name": "ipython",
    "version": 3
   },
   "file_extension": ".py",
   "mimetype": "text/x-python",
   "name": "python",
   "nbconvert_exporter": "python",
   "pygments_lexer": "ipython3",
   "version": "3.10.12"
  }
 },
 "nbformat": 4,
 "nbformat_minor": 5
}
